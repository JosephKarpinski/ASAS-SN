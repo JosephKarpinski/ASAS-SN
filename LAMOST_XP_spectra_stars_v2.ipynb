{
 "cells": [
  {
   "cell_type": "code",
   "execution_count": null,
   "id": "37a578ef",
   "metadata": {},
   "outputs": [],
   "source": [
    "\n",
    "import webbrowser\n",
    "\n",
    "webbrowser.open('https://dr7.lamost.org/v2.0/search')\n",
    "\n",
    "webbrowser.open('https://dr7.lamost.org/v2.0/medcas/search')\n",
    "\n",
    "webbrowser.open('https://dr7.lamost.org/spectrum/')\n",
    "\n",
    "webbrowser.open('https://dr7.lamost.org/catalogue')\n",
    "\n"
   ]
  },
  {
   "cell_type": "code",
   "execution_count": null,
   "id": "930d668c",
   "metadata": {},
   "outputs": [],
   "source": [
    "webbrowser.open('https://vizier.cds.unistra.fr/viz-bin/VizieR?-source=V/156')\n",
    "\n",
    "webbrowser.open('https://annayqho.github.io/TheCannon/lamost_tutorial.html')"
   ]
  },
  {
   "cell_type": "code",
   "execution_count": 1,
   "id": "ee3f975b",
   "metadata": {},
   "outputs": [],
   "source": [
    "import numpy as np\n",
    "import pandas as pd\n",
    "import scipy as sp\n",
    "\n",
    "import matplotlib.pyplot as plt\n",
    "\n",
    "from astroquery.gaia import Gaia\n",
    "from astroquery.simbad import Simbad\n",
    "\n",
    "import astropy.coordinates as coord\n",
    "import astropy.units as u\n",
    "\n",
    "import pyvo as vo\n",
    "\n",
    "import webbrowser\n",
    "\n",
    "import starcolorindexSpT \n",
    "\n",
    "import warnings\n",
    "warnings.filterwarnings('ignore')"
   ]
  },
  {
   "cell_type": "code",
   "execution_count": 2,
   "id": "ef713a1c",
   "metadata": {},
   "outputs": [
    {
     "name": "stdout",
     "output_type": "stream",
     "text": [
      "pandas1.1.5\n",
      "numpy1.24.2\n",
      "scipy1.9.3\n",
      "matplotlib3.2.2\n",
      "astroquery0.4.7.dev8479\n",
      "\n",
      "\n",
      "Python 3.8.5\n",
      "\n",
      "\n",
      "Selected Jupyter core packages...\n",
      "IPython          : 8.12.0\n",
      "ipykernel        : 6.19.2\n",
      "ipywidgets       : 8.0.4\n",
      "jupyter_client   : 8.1.0\n",
      "jupyter_core     : 5.3.0\n",
      "jupyter_server   : 2.5.0\n",
      "jupyterlab       : not installed\n",
      "nbclient         : 0.5.13\n",
      "nbconvert        : 7.3.1\n",
      "nbformat         : 5.7.0\n",
      "notebook         : 6.5.3\n",
      "qtconsole        : 5.4.2\n",
      "traitlets        : 5.7.1\n"
     ]
    }
   ],
   "source": [
    "import matplotlib\n",
    "import astroquery\n",
    "\n",
    "print(\"pandas\" + str(pd.__version__))\n",
    "print(\"numpy\"  + str(np.__version__))\n",
    "print(\"scipy\"  + str(sp.__version__))\n",
    "\n",
    "print(\"matplotlib\" + str(matplotlib.__version__))\n",
    "\n",
    "print(\"astroquery\" + str(astroquery.__version__))\n",
    "\n",
    "\n",
    "print(\"\\n\")\n",
    "!python --version\n",
    "\n",
    "print(\"\\n\")\n",
    "!jupyter --version"
   ]
  },
  {
   "cell_type": "code",
   "execution_count": null,
   "id": "915fb3d5",
   "metadata": {},
   "outputs": [],
   "source": []
  },
  {
   "cell_type": "code",
   "execution_count": null,
   "id": "e5e3db97",
   "metadata": {},
   "outputs": [],
   "source": [
    "from IPython.display import display, HTML\n",
    "display(HTML(data=\"\"\"\n",
    "<style>\n",
    "    div#notebook-container    { width: 95%; }\n",
    "    div#menubar-container     { width: 65%; }\n",
    "    div#maintoolbar-container { width: 99%; }\n",
    "</style>\n",
    "\"\"\"))"
   ]
  },
  {
   "cell_type": "code",
   "execution_count": 3,
   "id": "ce44779f",
   "metadata": {},
   "outputs": [],
   "source": [
    "make_canvas_flag = \"Y\"\n",
    "\n",
    "hydrogen_lines_flag = \"N\""
   ]
  },
  {
   "cell_type": "code",
   "execution_count": null,
   "id": "1c4dad6a",
   "metadata": {},
   "outputs": [],
   "source": []
  },
  {
   "cell_type": "code",
   "execution_count": 4,
   "id": "80bac16e",
   "metadata": {},
   "outputs": [],
   "source": [
    "def make_labels(xlabel = '', ylabel = '', fontsize = 12):\n",
    "    #plt.xlabel(xlabel,  fontsize = fontsize)\n",
    "    plt.xlabel(\"Wavelength [Angstroms]\",  fontsize = fontsize)\n",
    "    plt.ylabel(ylabel, fontsize = fontsize)\n",
    "    plt.xticks(fontsize = fontsize)\n",
    "    plt.yticks(fontsize = fontsize)\n",
    "    plt.grid()"
   ]
  },
  {
   "cell_type": "code",
   "execution_count": 5,
   "id": "2feb23e6",
   "metadata": {},
   "outputs": [],
   "source": [
    "def make_RVS_canvas(xlabel = '', ylabel = '', fontsize = 12):\n",
    "    #plt.xlabel(xlabel,  fontsize = fontsize)\n",
    "    plt.xlabel(\"Wavelength [Angstroms]\",  fontsize = fontsize)\n",
    "    plt.ylabel(ylabel, fontsize = fontsize)\n",
    "    plt.xticks(fontsize = fontsize)\n",
    "    plt.yticks(fontsize = fontsize)\n",
    "    plt.grid()\n",
    "\n",
    "    yMin = float(xp['flux'].min())\n",
    "    #yRangeMin = yMin + 0.2\n",
    "    yRangeMin = 1.8 \n",
    "\n",
    "    yRangeMax = float(xp['flux'].max())\n",
    "    yRange = yRangeMax\n",
    "\n",
    "    plt.annotate('Ca II 8498', xy=[8498, yRangeMin ],  rotation=-90, color='red')\n",
    "    plt.annotate('Ca II 8542', xy=[8542, yRangeMin ], rotation=-90, color='red')\n",
    "    plt.annotate('Pa14 8600', xy=[8600, yRangeMin - 0.3 ], rotation=-90, color='red')\n",
    "    plt.annotate('Ca II 8662.1', xy=[8662, yRangeMin ],  rotation=-90, color='red')"
   ]
  },
  {
   "cell_type": "code",
   "execution_count": 6,
   "id": "3eeb69ff",
   "metadata": {},
   "outputs": [],
   "source": [
    "# Plotter ==============================================\n",
    "def make_canvas(xlabel = '', ylabel = '', fontsize = 12):\n",
    "    #plt.xlabel(xlabel,  fontsize = fontsize)\n",
    "    plt.xlabel(\"Wavelength [Angstroms]\",  fontsize = fontsize)\n",
    "    plt.ylabel(ylabel, fontsize = fontsize)\n",
    "    plt.xticks(fontsize = fontsize)\n",
    "    plt.yticks(fontsize = fontsize)\n",
    "    plt.grid()\n",
    "\n",
    "    plt.xticks([3839, 3889, 3970, 4101, 4340, 4472, 4861, 5175, 5270, 5411, 5755, 5895, 6302,\n",
    "               6365, 6562, 6562, 6890, 7135, 7500, 7775, 8000, 8498, 8542, 8662, 9000, 9200])\n",
    "    \n",
    "    xLabels = (3839, 3889, 3970, 4101, 4340, 4472, 4861, 5175, 5270, 5411, 5755, 5895, 6302,\n",
    "               6365, 6562, 6562, 6890, 7135, 7500, 7775, 8000, 8498, 8542, 8662, 9000, 9200)\n",
    "\n",
    "    plt.xticks(xLabels, rotation=90)\n",
    "\n",
    "    yMin = float(xp['flux'].min())\n",
    "    #yRangeMin = yMin + 0.2\n",
    "    yRangeMin = 0.8 \n",
    "\n",
    "    yRangeMax = float(xp['flux'].max())\n",
    "    yRange = yRangeMax\n",
    "\n",
    "    plt.annotate('CN 3839', xy=[3839,   yRangeMin + 0.6],  rotation=-90)\n",
    "    plt.annotate('H-zeta 3889', xy=[3889, yRangeMin +  .20],  rotation=-90, color='red')\n",
    "    plt.annotate('H-epsilon 3970', xy=[3970, yRangeMin +  0.6],  rotation=-90, color='red')\n",
    "    plt.annotate('H-delta 4101', xy=[4101, yRangeMin +  .20],  rotation=-90, color='red')\n",
    "    plt.annotate('H-gamma 4340', xy=[4340, yRangeMin + .20],  rotation=-90, color='red')\n",
    "    plt.annotate('He I 4471.7', xy=[4472, yRangeMin + .20],  rotation=-90, color='orange')\n",
    "    plt.annotate('H-beta 4861', xy=[4861, yRangeMin + .20],  rotation=-90, color='red')\n",
    "    plt.annotate('Mg I 5175', xy=[5175, yRangeMin + .20],  rotation=-90)\n",
    "    plt.annotate('Fe I 5270', xy=[5270, yRangeMin +  .20],  rotation=-90)\n",
    "    plt.annotate('He II 5411', xy=[5411, yRangeMin +  .20],  rotation=-90, color='orange')\n",
    "    plt.annotate('N II 5755', xy=[5755, yRangeMin +  .20],  rotation=-90)\n",
    "    plt.annotate('D1 Na I 5895', xy=[5895, yRangeMin +  .20],  rotation=-90, color='blue')\n",
    "    plt.annotate('OI 6302', xy=[6302, yRangeMin +  .20],  rotation=-90, color='green')\n",
    "    plt.annotate('OI 6365.5', xy=[6365, yRangeMin +  .20],  rotation=-90, color='green')\n",
    "    plt.annotate('H-alpha 6562', xy=[6562, yRangeMin +  .20],  rotation=-90, color='red')\n",
    "    plt.annotate('CN 6890', xy=[6890, yRangeMin +  .20],  rotation=-90)\n",
    "    plt.annotate('Ar III 7135', xy=[7135, yRangeMin +  .20],  rotation=-90)\n",
    "    plt.annotate('O I 7775', xy=[7775, yRangeMin +  .20], rotation=-90, color='green')\n",
    "    plt.annotate('Ca II 8498', xy=[8498, yRangeMin +  .35],  rotation=-90, color='blue')\n",
    "    plt.annotate('Ca II 8542', xy=[8542, yRangeMin +  .30], rotation=-90, color='blue')\n",
    "    plt.annotate('Ca II 8662.1', xy=[8662, yRangeMin +  .30],  rotation=-90, color='blue')\n",
    "\n",
    "\n",
    "\n",
    "\n",
    "\n",
    "def Hydrogen_lines(xlabel = '', ylabel = '', fontsize = 12):\n",
    "    #plt.xlabel(xlabel,  fontsize = fontsize)\n",
    "    plt.xlabel(\"Wavelength [Angstroms]\",  fontsize = fontsize)\n",
    "    plt.ylabel(ylabel, fontsize = fontsize)\n",
    "    plt.xticks(fontsize = fontsize)\n",
    "    plt.yticks(fontsize = fontsize)\n",
    "    plt.grid()\n",
    "\n",
    "    plt.xticks([3835, 3889, 3970, 4101, 4340, 4861, 6000, 6562, 7000, 8000, 9000, 10000])\n",
    "    \n",
    "    xLabels = (3835, 3889, 3970, 4101, 4340, 4861, 6000, 6562, 7000, 8000, 9000, 10000)\n",
    "\n",
    "    plt.xticks(xLabels, rotation=90)\n",
    "\n",
    "    yMin = float(xp['flux'].min())\n",
    "    #yRangeMin = yMin + 0.2\n",
    "    yRangeMin = 0.8 \n",
    "\n",
    "    yRangeMax = float(xp['flux'].max())\n",
    "    yRange = yRangeMax\n",
    "\n",
    "    plt.annotate('H12 3750', xy=[3750, yRangeMin +  .50],  rotation=-90, color='red')\n",
    "    plt.annotate('H11 3771', xy=[3771, yRangeMin -  .35],  rotation=-90, color='red')\n",
    "    plt.annotate('H10 3798', xy=[3798, yRangeMin +  .20],  rotation=-90, color='red')\n",
    "    plt.annotate('H9 3835', xy=[3835, yRangeMin -  .10],  rotation=-90, color='red')\n",
    "\n",
    "    plt.annotate('H8-zeta 3889', xy=[3889, yRangeMin +  .20],  rotation=-90, color='red')\n",
    "    plt.annotate('H-epsilon 3970', xy=[3970, yRangeMin +  0.6],  rotation=-90, color='red')\n",
    "    plt.annotate('H-delta 4101', xy=[4101, yRangeMin +  .20],  rotation=-90, color='red')\n",
    "    plt.annotate('H-gamma 4340', xy=[4340, yRangeMin + .20],  rotation=-90, color='red')\n",
    "    plt.annotate('H-beta 4861', xy=[4861, yRangeMin + .20],  rotation=-90, color='red')\n",
    "    plt.annotate('H-alpha 6562', xy=[6562, yRangeMin +  .20],  rotation=-90, color='red')"
   ]
  },
  {
   "cell_type": "code",
   "execution_count": 7,
   "id": "d97fb59f",
   "metadata": {},
   "outputs": [],
   "source": [
    "def make_RVS_canvas1(xlabel = '', ylabel = '', fontsize = 12):     ### 8460 - 8580\n",
    "    plt.xlabel(\"Wavelength [Angstroms]\",  fontsize = fontsize)\n",
    "    plt.ylabel(ylabel, fontsize = fontsize)\n",
    "    plt.xticks(fontsize = fontsize)\n",
    "    plt.yticks(fontsize = fontsize)\n",
    "    plt.grid()\n",
    "\n",
    "    yMin = float(xp['flux'].min())\n",
    "    yRangeMin = 1.8 \n",
    "\n",
    "    yRangeMax = float(xp['flux'].max())\n",
    "    yRange = yRangeMax\n",
    "\n",
    "    plt.annotate('Fe I 8470', xy=[8470, yRangeMin ],  rotation=-90, color='green')\n",
    "    plt.annotate('Mg I 8476', xy=[8476, yRangeMin - 0.3],  rotation=-90, color='blue')\n",
    "    plt.annotate('Fe I 8483', xy=[8483, yRangeMin - 0.3],  rotation=-90, color='green')\n",
    "    plt.annotate('Ca II 8498', xy=[8498, yRangeMin ],  rotation=-90, color='red')\n",
    "    plt.annotate('Ca II 8502', xy=[8502, yRangeMin],  rotation=-90, color='red')\n",
    "    plt.annotate('Ce II 8514', xy=[8514, yRangeMin - 0.3],  rotation=-90, color='green')\n",
    "    plt.annotate('Fe I 8516', xy=[8516, yRangeMin - 0.3],  rotation=-90, color='green')\n",
    "    plt.annotate('Ti I 8520.6', xy=[8520.6, yRangeMin - 0.3],  rotation=-90, color='blue')\n",
    "    plt.annotate('Zr II 8527', xy=[8527, yRangeMin - 0.3],  rotation=-90, color='green')\n",
    "    plt.annotate('Fe I 8529', xy=[8529, yRangeMin - 0.3],  rotation=-90, color='green')\n",
    "    plt.annotate('Si I 8538', xy=[8538, yRangeMin - 0.3],  rotation=-90, color='red')\n",
    "    plt.annotate('Ca II 8542', xy=[8542, yRangeMin],  rotation=-90, color='red')\n",
    "    plt.annotate('Ca II 8546', xy=[8546, yRangeMin - 0.3],  rotation=-90, color='red')\n",
    "    plt.annotate('Cr I 8551', xy=[8551, yRangeMin  - 0.3],  rotation=-90, color='green')\n",
    "    plt.annotate('Si I 8559', xy=[8559, yRangeMin  - 0.3],  rotation=-90, color='red')\n",
    "    plt.annotate('Ti I 8572', xy=[8572, yRangeMin - 0.3],  rotation=-90, color='blue')\n",
    "    plt.annotate('Fe I 8574', xy=[8574, yRangeMin - 0.3],  rotation=-90, color='green')"
   ]
  },
  {
   "cell_type": "code",
   "execution_count": 8,
   "id": "85e545a9",
   "metadata": {},
   "outputs": [],
   "source": [
    "def make_RVS_canvas2(xlabel = '', ylabel = '', fontsize = 12):    ### 8580 - 8700\n",
    "    plt.xlabel(\"Wavelength [Angstroms]\",  fontsize = fontsize)\n",
    "    plt.ylabel(ylabel, fontsize = fontsize)\n",
    "    plt.xticks(fontsize = fontsize)\n",
    "    plt.yticks(fontsize = fontsize)\n",
    "    plt.grid()\n",
    "\n",
    "    yMin = float(xp['flux'].min())\n",
    "    yRangeMin = 1.8 \n",
    "\n",
    "    yRangeMax = float(xp['flux'].max())\n",
    "    yRange = yRangeMax\n",
    "\n",
    "    plt.annotate('Fe I 8584', xy=[8584, yRangeMin - 0.3],  rotation=-90, color='green')\n",
    "    plt.annotate('Fe II 8588', xy=[8588, yRangeMin - 0.3],  rotation=-90, color='green')\n",
    "    plt.annotate('Nd II 8594', xy=[8594, yRangeMin - 0.3],  rotation=-90, color='blue')\n",
    "    plt.annotate('Fe I 8624', xy=[8624, yRangeMin - 0.3],  rotation=-90, color='green')\n",
    "    plt.annotate('N I 8631',  xy=[8631, yRangeMin  - 0.3 ],  rotation=-90, color='red')\n",
    "    plt.annotate('Ca I 8636',  xy=[8636, yRangeMin  - 0.3 ],  rotation=-90, color='red')\n",
    "    plt.annotate('Ni I 8639',  xy=[8639, yRangeMin  - 0.3 ],  rotation=-90, color='red')\n",
    "    plt.annotate('Cr I 8645', xy=[8645, yRangeMin  - 0.3],  rotation=-90, color='green')\n",
    "    plt.annotate('Ca II 8662', xy=[8662, yRangeMin],  rotation=-90, color='red')\n",
    "    plt.annotate('Ca II 8666', xy=[8666, yRangeMin],  rotation=-90, color='red')\n",
    "    plt.annotate('S I 8672',  xy=[8672, yRangeMin  - 0.3],  rotation=-90, color='red')\n",
    "    plt.annotate('Fe I 8677', xy=[8677, yRangeMin],  rotation=-90, color='green')\n",
    "    plt.annotate('N I 8685',  xy=[8685, yRangeMin  - 0.3],  rotation=-90, color='red')\n",
    "    plt.annotate('Si I 8688', xy=[8688, yRangeMin  - 0.3],  rotation=-90, color='red')\n",
    "    plt.annotate('Fe I 8691', xy=[8691, yRangeMin - 0.3],  rotation=-90, color='green')\n",
    "    plt.annotate('Ti I 8694', xy=[8694, yRangeMin - 0.3],  rotation=-90, color='green')\n",
    "    plt.annotate('S I 8697',  xy=[8697, yRangeMin  - 0.3 ],  rotation=-90, color='red')"
   ]
  },
  {
   "cell_type": "code",
   "execution_count": 9,
   "id": "b934db48",
   "metadata": {},
   "outputs": [],
   "source": [
    "def PlotTarget4B(target, i, targetstring, freqmin, freqmax):\n",
    "    import matplotlib.pyplot as plt\n",
    "\n",
    "    import astropy.units as u\n",
    "    \n",
    "\n",
    "    plt.rcParams.update({'figure.max_open_warning': 0})\n",
    "    \n",
    "\n",
    "\n",
    "    lc0 = lk.search_lightcurve(target)[i].download();\n",
    "\n",
    "    lc = lc0.remove_nans().normalize().remove_outliers()\n",
    "\n",
    "\n",
    "    \n",
    "    #lc = lc0.flatten()\n",
    "    #lc = lc0.remove_outliers()\n",
    "    #lc = lc0.remove_outliers(sigma=3)\n",
    "\n",
    "\n",
    "\n",
    "\n",
    "\n",
    "    if plot_lightcurve  == \"Y\":\n",
    "        #plt.figure(figsize=(13, 10))\n",
    "        lc.plot()\n",
    "        #lc.plot(label='Lightcurve Plot2')\n",
    "        sText = \"\\nLightcurve Plot\"\n",
    "        plt.title(str(target) + \" (\" + str(i) + \")\"  + sText);\n",
    "       \n",
    "    \n",
    "    #period = np.linspace(1, 20, 10000)\n",
    "    period = np.linspace(freqmin, freqmax, 10000)\n",
    "    bls = lc.to_periodogram(method='bls', period=period, frequency_factor=500);\n",
    "    #bls = lc.normalize().to_periodogram(method='bls', period=period, frequency_factor=500);\n",
    "    \n",
    "    period_array = bls.period\n",
    "    period_rounded = np.round(period_array, 1)\n",
    "    power_array = bls.power\n",
    "\n",
    "    # Save the highest peak as the planet candidate\n",
    "    #index = np.argmax(power_array.power)\n",
    "    #bls_period = period_array.period[index]\n",
    "\n",
    "\n",
    "    df_dict = {\n",
    "        'Period': period_rounded,\n",
    "        'Power': power_array\n",
    "        }\n",
    "    df = pd.DataFrame(df_dict)\n",
    "    df = df.sort_values(by=['Power'], ascending=False)\n",
    "    df = df.drop_duplicates(subset=['Period'], keep='first')\n",
    "    #print(df[0:10])\n",
    "\n",
    "\n",
    "    planet_period = bls.period_at_max_power\n",
    "    planet_t0 = bls.transit_time_at_max_power\n",
    "    planet_dur = bls.duration_at_max_power\n",
    "\n",
    "    if plot_period      == \"Y\":\n",
    "        #plt.figure(figsize=(13, 10))\n",
    "        #print(\"Period Array: \" + str(period_array))\n",
    "        bls.plot()\n",
    "        #plt.title(str(target) + \" (\" + str(i) + \")\" + str(targetstring) + \"\\n                    LightKurve Period:  \" + str(planet_period));\n",
    "        plt.title(str(target) + \" (\" + str(i) + \")\" + str(targetstring) + \"\\n                    LightKurve Period:   + {0:.4f} \".format(planet_period) + \"\\nlc0.remove_nans().normalize().remove_outliers()\");\n",
    "        #plt.axvline(bls_period, color=\"C1\", lw=5, alpha=0.8)\n",
    "        # + \"\\nPeriod array: \" + str(period_array)  + \"\\nPower array: \" + str(power_array)\n",
    "        #print(df['Period'][0:10])\n",
    "\n",
    "\n",
    "    if plot_phase_fold  == \"Y\":\n",
    "        #plt.figure(figsize=(13, 10))\n",
    "        ax = lc.fold(period=planet_period, epoch_time=planet_t0).scatter()\n",
    "        ax.set_xlim(-5, 5)\n",
    "        sText = \"\\nPhase-fold the light curve to confirm period and transit time (epoch) \\ncorrespond to a transit signal.\"\n",
    "        plt.title(str(target) + \" (\" + str(i) + \")\"  + sText);\n",
    "        plt.show();\n",
    "\n",
    "    if plot_4phase_fold == \"Y\":\n",
    "        #plt.figure(figsize=(13, 10))\n",
    "        pg = lc.to_periodogram(minimum_period=0.9*u.day, maximum_period=1.2*u.day, oversample_factor=10)\n",
    "        pg.period_at_max_power\n",
    "        lc.fold(period=4*pg.period_at_max_power, wrap_phase=0.2).scatter();\n",
    "        sText1 = \"\\nThe above eclipses may not line up or look like the correct period of an eclipsing binary.\"  \n",
    "        sText2 = \"\\nThis is common for eclipsing binaries with deep secondary eclipses, we may have found a harmonic of the period.\" \n",
    "        sText3 = \"\\nLet's plot it again with quadruple the period.\"\n",
    "        plt.title(str(target) + \" (\" + str(i) + \")\"  + sText1 + sText2 + sText3)\n",
    "        plt.show();\n",
    "\n",
    "    \n",
    "    if plot_periodogram == \"Y\":\n",
    "        pg = lc.to_periodogram(oversample_factor=1)\n",
    "        pg.plot()\n",
    "        sText = \"\\nPlot the periodogram in the same way that we plot the original light curve.\"\n",
    "        plt.title(str(target) + \" (\" + str(i) + \")\" + str(targetstring)   + sText)\n",
    "        plt.show()\n",
    "\n",
    "        pg.plot(view='period', scale='log')\n",
    "        sText = \"\\nLet's plot it in period space, so that we can see what period the oscillation is occurring at.\"\n",
    "        plt.title(str(target) + \" (\" + str(i) + \")\" + str(targetstring) + sText)\n",
    "        plt.show()\n",
    "\n",
    "        lc.fold(period=pg.period_at_max_power).scatter()\n",
    "        sText = \"\\nLet's use the period_at_max_power to fold the light curve\"\n",
    "        plt.title(str(target) + \" (\" + str(i) + \")\" + str(targetstring) + sText)\n",
    "        plt.show()\n",
    "\n",
    "        lc.fold(period=4*pg.period_at_max_power, wrap_phase=0.2).scatter()\n",
    "        sText = \"\\nIf the eclipses do not line up, try plotting it again with quadruple the period.\"\n",
    "        plt.title(str(target) + \" (\" + str(i) + \")\" + str(targetstring) + sText)\n",
    "        plt.show()\n",
    "\n",
    "        pg = lc.to_periodogram(minimum_period=0.9*u.day, maximum_period=1.2*u.day, oversample_factor=10)\n",
    "        pg.period_at_max_power  \n",
    "        sText =\"\\nLet's try to get a more precise period by increasing the number of points in our periodogram \\nusing the `oversample_factor` parameter and by constraining the range of the period value:\"\n",
    "        #sText =\"\\nLet's try to get a more precise period by increasing the number of points in our periodogram \\nusing the `oversample_factor` parameter.\"\n",
    "        lc.fold(period=pg.period_at_max_power, wrap_phase=0.2).scatter()\n",
    "        #lc.fold(period=pg.period_at_max_power).scatter()\n",
    "        plt.title(str(target) + \" (\" + str(i) + \")\" + str(targetstring)  + sText)\n",
    "        plt.show()\n",
    "\n",
    "    plt.figure(figsize=(13.5, 1))\n",
    "    plt.axhline(y=0.5, color='r', linestyle='-')\n",
    "    plt.axis('off')\n",
    "    plt.close()"
   ]
  },
  {
   "cell_type": "code",
   "execution_count": 10,
   "id": "317e2c6f",
   "metadata": {},
   "outputs": [],
   "source": [
    "pd.set_option('display.max_columns', None)"
   ]
  },
  {
   "cell_type": "code",
   "execution_count": 69,
   "id": "e87bc5ac",
   "metadata": {},
   "outputs": [],
   "source": [
    "#df_lamost_stars = pd.read_csv('LAMOST LRS General Catalog.csv', delimiter='|')    # 10431197 stars\n",
    "\n",
    "df_lamost_LRS_stars = pd.read_csv('dr7_v2.0_LRS_catalogue.csv', delimiter='|')     # 10431197 stars\n",
    "\n",
    "df_lamost_MRS_stars = pd.read_csv('dr7_v2.0_MRS_catalogue.csv', delimiter='|')     # 14096967 stars - No subclass field\n",
    "\n",
    "#df_lamost_stars = pd.read_csv('dr7_v2.0_LRS_mstellar.csv', delimiter='|')         # 708797 stars\n",
    "\n",
    "#df_lamost_stars = pd.read_csv('dr7_v2.0_LRS_cv.csv', delimiter='|')               # 424 stars\n",
    "\n",
    "#df_lamost_stars = pd.read_csv('dr7_v2.0_LRS_wd.csv', delimiter='|')               # 14531 stars\n",
    "\n",
    "\n",
    "#df_lamost_stars.shape[0]"
   ]
  },
  {
   "cell_type": "code",
   "execution_count": 70,
   "id": "4a3e77c5",
   "metadata": {},
   "outputs": [
    {
     "data": {
      "text/html": [
       "<div>\n",
       "<style scoped>\n",
       "    .dataframe tbody tr th:only-of-type {\n",
       "        vertical-align: middle;\n",
       "    }\n",
       "\n",
       "    .dataframe tbody tr th {\n",
       "        vertical-align: top;\n",
       "    }\n",
       "\n",
       "    .dataframe thead th {\n",
       "        text-align: right;\n",
       "    }\n",
       "</style>\n",
       "<table border=\"1\" class=\"dataframe\">\n",
       "  <thead>\n",
       "    <tr style=\"text-align: right;\">\n",
       "      <th></th>\n",
       "      <th>obsid</th>\n",
       "      <th>designation</th>\n",
       "      <th>obsdate</th>\n",
       "      <th>lmjd</th>\n",
       "      <th>mjd</th>\n",
       "      <th>planid</th>\n",
       "      <th>spid</th>\n",
       "      <th>fiberid</th>\n",
       "      <th>ra_obs</th>\n",
       "      <th>dec_obs</th>\n",
       "      <th>...</th>\n",
       "      <th>fibertype</th>\n",
       "      <th>tfrom</th>\n",
       "      <th>tcomment</th>\n",
       "      <th>offsets</th>\n",
       "      <th>offsets_v</th>\n",
       "      <th>ra</th>\n",
       "      <th>dec</th>\n",
       "      <th>fibermask</th>\n",
       "      <th>gaia_source_id</th>\n",
       "      <th>gaia_g_mean_mag</th>\n",
       "    </tr>\n",
       "  </thead>\n",
       "  <tbody>\n",
       "    <tr>\n",
       "      <th>0</th>\n",
       "      <td>101001</td>\n",
       "      <td>J220848.54-020324.3</td>\n",
       "      <td>2011-10-24</td>\n",
       "      <td>55859</td>\n",
       "      <td>55858</td>\n",
       "      <td>F5902</td>\n",
       "      <td>1</td>\n",
       "      <td>1</td>\n",
       "      <td>332.202274</td>\n",
       "      <td>-2.056767</td>\n",
       "      <td>...</td>\n",
       "      <td>Obj</td>\n",
       "      <td>-</td>\n",
       "      <td>.</td>\n",
       "      <td>0</td>\n",
       "      <td>0.0</td>\n",
       "      <td>332.202274</td>\n",
       "      <td>-2.056767</td>\n",
       "      <td>2</td>\n",
       "      <td>2.676862e+18</td>\n",
       "      <td>16.468395</td>\n",
       "    </tr>\n",
       "    <tr>\n",
       "      <th>1</th>\n",
       "      <td>101002</td>\n",
       "      <td>J220953.17-020506.0</td>\n",
       "      <td>2011-10-24</td>\n",
       "      <td>55859</td>\n",
       "      <td>55858</td>\n",
       "      <td>F5902</td>\n",
       "      <td>1</td>\n",
       "      <td>2</td>\n",
       "      <td>332.471576</td>\n",
       "      <td>-2.085015</td>\n",
       "      <td>...</td>\n",
       "      <td>Obj</td>\n",
       "      <td>-</td>\n",
       "      <td>.</td>\n",
       "      <td>0</td>\n",
       "      <td>0.0</td>\n",
       "      <td>332.471576</td>\n",
       "      <td>-2.085015</td>\n",
       "      <td>0</td>\n",
       "      <td>2.676109e+18</td>\n",
       "      <td>16.623343</td>\n",
       "    </tr>\n",
       "    <tr>\n",
       "      <th>2</th>\n",
       "      <td>101005</td>\n",
       "      <td>J221008.50-020659.1</td>\n",
       "      <td>2011-10-24</td>\n",
       "      <td>55859</td>\n",
       "      <td>55858</td>\n",
       "      <td>F5902</td>\n",
       "      <td>1</td>\n",
       "      <td>5</td>\n",
       "      <td>332.535456</td>\n",
       "      <td>-2.116436</td>\n",
       "      <td>...</td>\n",
       "      <td>Obj</td>\n",
       "      <td>-</td>\n",
       "      <td>.</td>\n",
       "      <td>0</td>\n",
       "      <td>0.0</td>\n",
       "      <td>332.535456</td>\n",
       "      <td>-2.116436</td>\n",
       "      <td>0</td>\n",
       "      <td>2.676109e+18</td>\n",
       "      <td>17.034334</td>\n",
       "    </tr>\n",
       "    <tr>\n",
       "      <th>3</th>\n",
       "      <td>101007</td>\n",
       "      <td>J221003.01-015029.0</td>\n",
       "      <td>2011-10-24</td>\n",
       "      <td>55859</td>\n",
       "      <td>55858</td>\n",
       "      <td>F5902</td>\n",
       "      <td>1</td>\n",
       "      <td>7</td>\n",
       "      <td>332.512558</td>\n",
       "      <td>-1.841408</td>\n",
       "      <td>...</td>\n",
       "      <td>Obj</td>\n",
       "      <td>-</td>\n",
       "      <td>.</td>\n",
       "      <td>0</td>\n",
       "      <td>0.0</td>\n",
       "      <td>332.512558</td>\n",
       "      <td>-1.841408</td>\n",
       "      <td>8</td>\n",
       "      <td>2.676873e+18</td>\n",
       "      <td>18.120117</td>\n",
       "    </tr>\n",
       "    <tr>\n",
       "      <th>4</th>\n",
       "      <td>101008</td>\n",
       "      <td>J220928.49-015720.7</td>\n",
       "      <td>2011-10-24</td>\n",
       "      <td>55859</td>\n",
       "      <td>55858</td>\n",
       "      <td>F5902</td>\n",
       "      <td>1</td>\n",
       "      <td>8</td>\n",
       "      <td>332.368745</td>\n",
       "      <td>-1.955771</td>\n",
       "      <td>...</td>\n",
       "      <td>Obj</td>\n",
       "      <td>-</td>\n",
       "      <td>.</td>\n",
       "      <td>0</td>\n",
       "      <td>0.0</td>\n",
       "      <td>332.368745</td>\n",
       "      <td>-1.955771</td>\n",
       "      <td>0</td>\n",
       "      <td>2.676865e+18</td>\n",
       "      <td>16.039270</td>\n",
       "    </tr>\n",
       "  </tbody>\n",
       "</table>\n",
       "<p>5 rows × 39 columns</p>\n",
       "</div>"
      ],
      "text/plain": [
       "    obsid          designation     obsdate   lmjd    mjd planid  spid  \\\n",
       "0  101001  J220848.54-020324.3  2011-10-24  55859  55858  F5902     1   \n",
       "1  101002  J220953.17-020506.0  2011-10-24  55859  55858  F5902     1   \n",
       "2  101005  J221008.50-020659.1  2011-10-24  55859  55858  F5902     1   \n",
       "3  101007  J221003.01-015029.0  2011-10-24  55859  55858  F5902     1   \n",
       "4  101008  J220928.49-015720.7  2011-10-24  55859  55858  F5902     1   \n",
       "\n",
       "   fiberid      ra_obs   dec_obs  ...  fibertype  tfrom  tcomment  offsets  \\\n",
       "0        1  332.202274 -2.056767  ...        Obj      -         .        0   \n",
       "1        2  332.471576 -2.085015  ...        Obj      -         .        0   \n",
       "2        5  332.535456 -2.116436  ...        Obj      -         .        0   \n",
       "3        7  332.512558 -1.841408  ...        Obj      -         .        0   \n",
       "4        8  332.368745 -1.955771  ...        Obj      -         .        0   \n",
       "\n",
       "   offsets_v          ra       dec fibermask  gaia_source_id  gaia_g_mean_mag  \n",
       "0        0.0  332.202274 -2.056767         2    2.676862e+18        16.468395  \n",
       "1        0.0  332.471576 -2.085015         0    2.676109e+18        16.623343  \n",
       "2        0.0  332.535456 -2.116436         0    2.676109e+18        17.034334  \n",
       "3        0.0  332.512558 -1.841408         8    2.676873e+18        18.120117  \n",
       "4        0.0  332.368745 -1.955771         0    2.676865e+18        16.039270  \n",
       "\n",
       "[5 rows x 39 columns]"
      ]
     },
     "execution_count": 70,
     "metadata": {},
     "output_type": "execute_result"
    }
   ],
   "source": [
    "df_lamost_LRS_stars.head()"
   ]
  },
  {
   "cell_type": "code",
   "execution_count": 71,
   "id": "bdeac7fa",
   "metadata": {},
   "outputs": [
    {
     "name": "stdout",
     "output_type": "stream",
     "text": [
      "10431197 rows\n",
      "9781.1 MB\n"
     ]
    }
   ],
   "source": [
    "print('{:d} rows'.format(len(df_lamost_LRS_stars)))\n",
    "print('{:.1f} MB'.format(df_lamost_LRS_stars.memory_usage(index=True,deep=True).sum()/1e6))\n"
   ]
  },
  {
   "cell_type": "code",
   "execution_count": 72,
   "id": "f1ba9a2a",
   "metadata": {},
   "outputs": [],
   "source": [
    "df_lamost_LRS_stars = df_lamost_LRS_stars[df_lamost_LRS_stars['gaia_source_id'].astype(str) != '-9999']"
   ]
  },
  {
   "cell_type": "code",
   "execution_count": 73,
   "id": "ea2c345b",
   "metadata": {},
   "outputs": [],
   "source": [
    "df_lamost_LRS_stars = df_lamost_LRS_stars[['obsid','designation','objtype','class', 'subclass','gaia_source_id']]"
   ]
  },
  {
   "cell_type": "code",
   "execution_count": 74,
   "id": "da4feba7",
   "metadata": {},
   "outputs": [
    {
     "name": "stdout",
     "output_type": "stream",
     "text": [
      "10431197 rows\n",
      "2941.7 MB\n"
     ]
    }
   ],
   "source": [
    "print('{:d} rows'.format(len(df_lamost_LRS_stars)))\n",
    "print('{:.1f} MB'.format(df_lamost_LRS_stars.memory_usage(index=True,deep=True).sum()/1e6))"
   ]
  },
  {
   "cell_type": "code",
   "execution_count": null,
   "id": "45f6c31e",
   "metadata": {},
   "outputs": [],
   "source": []
  },
  {
   "cell_type": "code",
   "execution_count": 75,
   "id": "a3ed3cbc",
   "metadata": {},
   "outputs": [
    {
     "data": {
      "text/html": [
       "<div>\n",
       "<style scoped>\n",
       "    .dataframe tbody tr th:only-of-type {\n",
       "        vertical-align: middle;\n",
       "    }\n",
       "\n",
       "    .dataframe tbody tr th {\n",
       "        vertical-align: top;\n",
       "    }\n",
       "\n",
       "    .dataframe thead th {\n",
       "        text-align: right;\n",
       "    }\n",
       "</style>\n",
       "<table border=\"1\" class=\"dataframe\">\n",
       "  <thead>\n",
       "    <tr style=\"text-align: right;\">\n",
       "      <th></th>\n",
       "      <th>mobsid</th>\n",
       "      <th>obsid</th>\n",
       "      <th>designation</th>\n",
       "      <th>obsdate</th>\n",
       "      <th>lmjd</th>\n",
       "      <th>mjd</th>\n",
       "      <th>planid</th>\n",
       "      <th>spid</th>\n",
       "      <th>fiberid</th>\n",
       "      <th>lmjm</th>\n",
       "      <th>...</th>\n",
       "      <th>rv_lasp1_err</th>\n",
       "      <th>coadd</th>\n",
       "      <th>fibermask</th>\n",
       "      <th>bad_b</th>\n",
       "      <th>bad_r</th>\n",
       "      <th>gaia_source_id</th>\n",
       "      <th>gaia_g_mean_mag</th>\n",
       "      <th>moon_angle</th>\n",
       "      <th>lunardate</th>\n",
       "      <th>moon_flg</th>\n",
       "    </tr>\n",
       "  </thead>\n",
       "  <tbody>\n",
       "    <tr>\n",
       "      <th>0</th>\n",
       "      <td>58891524483556038B</td>\n",
       "      <td>588915244</td>\n",
       "      <td>J010217.11+061808.0</td>\n",
       "      <td>2017-09-28</td>\n",
       "      <td>58025</td>\n",
       "      <td>58024</td>\n",
       "      <td>HIP507401</td>\n",
       "      <td>15</td>\n",
       "      <td>244</td>\n",
       "      <td>83556038.0</td>\n",
       "      <td>...</td>\n",
       "      <td>-9999.00</td>\n",
       "      <td>0</td>\n",
       "      <td>0.0</td>\n",
       "      <td>0</td>\n",
       "      <td>0</td>\n",
       "      <td>2577199768825094016</td>\n",
       "      <td>14.951456</td>\n",
       "      <td>95.2</td>\n",
       "      <td>9</td>\n",
       "      <td>0</td>\n",
       "    </tr>\n",
       "    <tr>\n",
       "      <th>1</th>\n",
       "      <td>58890221283556038B</td>\n",
       "      <td>588902212</td>\n",
       "      <td>J005946.46+033816.3</td>\n",
       "      <td>2017-09-28</td>\n",
       "      <td>58025</td>\n",
       "      <td>58024</td>\n",
       "      <td>HIP507401</td>\n",
       "      <td>2</td>\n",
       "      <td>212</td>\n",
       "      <td>83556038.0</td>\n",
       "      <td>...</td>\n",
       "      <td>1.15</td>\n",
       "      <td>0</td>\n",
       "      <td>0.0</td>\n",
       "      <td>0</td>\n",
       "      <td>0</td>\n",
       "      <td>2551489746698714368</td>\n",
       "      <td>11.647265</td>\n",
       "      <td>95.2</td>\n",
       "      <td>9</td>\n",
       "      <td>0</td>\n",
       "    </tr>\n",
       "    <tr>\n",
       "      <th>2</th>\n",
       "      <td>58891519683556038B</td>\n",
       "      <td>588915196</td>\n",
       "      <td>J010354.98+062221.3</td>\n",
       "      <td>2017-09-28</td>\n",
       "      <td>58025</td>\n",
       "      <td>58024</td>\n",
       "      <td>HIP507401</td>\n",
       "      <td>15</td>\n",
       "      <td>196</td>\n",
       "      <td>83556038.0</td>\n",
       "      <td>...</td>\n",
       "      <td>-9999.00</td>\n",
       "      <td>0</td>\n",
       "      <td>0.0</td>\n",
       "      <td>0</td>\n",
       "      <td>0</td>\n",
       "      <td>2576471926487172224</td>\n",
       "      <td>15.034384</td>\n",
       "      <td>95.2</td>\n",
       "      <td>9</td>\n",
       "      <td>0</td>\n",
       "    </tr>\n",
       "    <tr>\n",
       "      <th>3</th>\n",
       "      <td>58890818283556038B</td>\n",
       "      <td>588908182</td>\n",
       "      <td>J010636.29+043330.6</td>\n",
       "      <td>2017-09-28</td>\n",
       "      <td>58025</td>\n",
       "      <td>58024</td>\n",
       "      <td>HIP507401</td>\n",
       "      <td>8</td>\n",
       "      <td>182</td>\n",
       "      <td>83556038.0</td>\n",
       "      <td>...</td>\n",
       "      <td>-9999.00</td>\n",
       "      <td>0</td>\n",
       "      <td>0.0</td>\n",
       "      <td>0</td>\n",
       "      <td>0</td>\n",
       "      <td>2540020607765617664</td>\n",
       "      <td>14.136907</td>\n",
       "      <td>95.2</td>\n",
       "      <td>9</td>\n",
       "      <td>0</td>\n",
       "    </tr>\n",
       "    <tr>\n",
       "      <th>4</th>\n",
       "      <td>58890914083556038B</td>\n",
       "      <td>588909140</td>\n",
       "      <td>J010955.98+055445.7</td>\n",
       "      <td>2017-09-28</td>\n",
       "      <td>58025</td>\n",
       "      <td>58024</td>\n",
       "      <td>HIP507401</td>\n",
       "      <td>9</td>\n",
       "      <td>140</td>\n",
       "      <td>83556038.0</td>\n",
       "      <td>...</td>\n",
       "      <td>-9999.00</td>\n",
       "      <td>0</td>\n",
       "      <td>0.0</td>\n",
       "      <td>0</td>\n",
       "      <td>0</td>\n",
       "      <td>2576281092500224896</td>\n",
       "      <td>12.546629</td>\n",
       "      <td>95.2</td>\n",
       "      <td>9</td>\n",
       "      <td>0</td>\n",
       "    </tr>\n",
       "  </tbody>\n",
       "</table>\n",
       "<p>5 rows × 59 columns</p>\n",
       "</div>"
      ],
      "text/plain": [
       "               mobsid      obsid          designation     obsdate   lmjd  \\\n",
       "0  58891524483556038B  588915244  J010217.11+061808.0  2017-09-28  58025   \n",
       "1  58890221283556038B  588902212  J005946.46+033816.3  2017-09-28  58025   \n",
       "2  58891519683556038B  588915196  J010354.98+062221.3  2017-09-28  58025   \n",
       "3  58890818283556038B  588908182  J010636.29+043330.6  2017-09-28  58025   \n",
       "4  58890914083556038B  588909140  J010955.98+055445.7  2017-09-28  58025   \n",
       "\n",
       "     mjd     planid  spid  fiberid        lmjm  ... rv_lasp1_err  coadd  \\\n",
       "0  58024  HIP507401    15      244  83556038.0  ...     -9999.00      0   \n",
       "1  58024  HIP507401     2      212  83556038.0  ...         1.15      0   \n",
       "2  58024  HIP507401    15      196  83556038.0  ...     -9999.00      0   \n",
       "3  58024  HIP507401     8      182  83556038.0  ...     -9999.00      0   \n",
       "4  58024  HIP507401     9      140  83556038.0  ...     -9999.00      0   \n",
       "\n",
       "   fibermask  bad_b bad_r       gaia_source_id  gaia_g_mean_mag  moon_angle  \\\n",
       "0        0.0      0     0  2577199768825094016        14.951456        95.2   \n",
       "1        0.0      0     0  2551489746698714368        11.647265        95.2   \n",
       "2        0.0      0     0  2576471926487172224        15.034384        95.2   \n",
       "3        0.0      0     0  2540020607765617664        14.136907        95.2   \n",
       "4        0.0      0     0  2576281092500224896        12.546629        95.2   \n",
       "\n",
       "   lunardate  moon_flg  \n",
       "0          9         0  \n",
       "1          9         0  \n",
       "2          9         0  \n",
       "3          9         0  \n",
       "4          9         0  \n",
       "\n",
       "[5 rows x 59 columns]"
      ]
     },
     "execution_count": 75,
     "metadata": {},
     "output_type": "execute_result"
    }
   ],
   "source": [
    "df_lamost_MRS_stars.head()"
   ]
  },
  {
   "cell_type": "code",
   "execution_count": 76,
   "id": "f1b6f6d4",
   "metadata": {},
   "outputs": [
    {
     "name": "stdout",
     "output_type": "stream",
     "text": [
      "14096967 rows\n",
      "15472.0 MB\n"
     ]
    }
   ],
   "source": [
    "print('{:d} rows'.format(len(df_lamost_MRS_stars)))\n",
    "print('{:.1f} MB'.format(df_lamost_MRS_stars.memory_usage(index=True,deep=True).sum()/1e6))"
   ]
  },
  {
   "cell_type": "code",
   "execution_count": 77,
   "id": "2907ee1f",
   "metadata": {},
   "outputs": [],
   "source": [
    "df_lamost_MRS_stars = df_lamost_MRS_stars[df_lamost_MRS_stars['gaia_source_id'].astype(str) != '-9999']"
   ]
  },
  {
   "cell_type": "code",
   "execution_count": 78,
   "id": "80d2ca52",
   "metadata": {},
   "outputs": [],
   "source": [
    "df_lamost_MRS_stars = df_lamost_MRS_stars[['mobsid','obsid','designation','objtype','gaia_source_id']]"
   ]
  },
  {
   "cell_type": "code",
   "execution_count": 79,
   "id": "b9b6cae0",
   "metadata": {},
   "outputs": [
    {
     "name": "stdout",
     "output_type": "stream",
     "text": [
      "13709506 rows\n",
      "3213.5 MB\n"
     ]
    }
   ],
   "source": [
    "print('{:d} rows'.format(len(df_lamost_MRS_stars)))\n",
    "print('{:.1f} MB'.format(df_lamost_MRS_stars.memory_usage(index=True,deep=True).sum()/1e6))"
   ]
  },
  {
   "cell_type": "code",
   "execution_count": null,
   "id": "651f5470",
   "metadata": {},
   "outputs": [],
   "source": []
  },
  {
   "cell_type": "code",
   "execution_count": 80,
   "id": "0c8425c1",
   "metadata": {},
   "outputs": [],
   "source": [
    "df_lamost_LRS_stars['gaia_source_id'] = df_lamost_LRS_stars['gaia_source_id'].astype('Int64')\n",
    "\n",
    "df_lamost_MRS_stars['gaia_source_id'] = df_lamost_MRS_stars['gaia_source_id'].astype('Int64')"
   ]
  },
  {
   "cell_type": "code",
   "execution_count": 81,
   "id": "4162cf1f",
   "metadata": {},
   "outputs": [],
   "source": [
    "unique_class = np.unique(df_lamost_LRS_stars['class'].astype(str))"
   ]
  },
  {
   "cell_type": "code",
   "execution_count": 82,
   "id": "e233bd32",
   "metadata": {},
   "outputs": [
    {
     "data": {
      "text/plain": [
       "array(['GALAXY', 'QSO', 'STAR', 'Unknown'], dtype=object)"
      ]
     },
     "execution_count": 82,
     "metadata": {},
     "output_type": "execute_result"
    }
   ],
   "source": [
    "unique_class"
   ]
  },
  {
   "cell_type": "code",
   "execution_count": 83,
   "id": "5a54181b",
   "metadata": {},
   "outputs": [
    {
     "name": "stdout",
     "output_type": "stream",
     "text": [
      "GALAXY  count: 198272\n",
      "QSO  count: 66612\n",
      "STAR  count: 9846793\n",
      "Unknown  count: 319520\n"
     ]
    }
   ],
   "source": [
    "for vartype in unique_class:\n",
    "    v = df_lamost_LRS_stars[df_lamost_LRS_stars['class'] == vartype]\n",
    "    print(str(vartype) + \"  count: \"  + str(v.shape[0]))"
   ]
  },
  {
   "cell_type": "code",
   "execution_count": 84,
   "id": "8250a052",
   "metadata": {},
   "outputs": [
    {
     "name": "stdout",
     "output_type": "stream",
     "text": [
      "10431197 rows\n",
      "2952.2 MB\n"
     ]
    }
   ],
   "source": [
    "print('{:d} rows'.format(len(df_lamost_LRS_stars)))\n",
    "print('{:.1f} MB'.format(df_lamost_LRS_stars.memory_usage(index=True,deep=True).sum()/1e6))"
   ]
  },
  {
   "cell_type": "code",
   "execution_count": 85,
   "id": "925eb101",
   "metadata": {},
   "outputs": [],
   "source": [
    "df_lamost_LRS_stars = df_lamost_LRS_stars[df_lamost_LRS_stars['class'] == 'STAR']"
   ]
  },
  {
   "cell_type": "code",
   "execution_count": 86,
   "id": "2182c998",
   "metadata": {},
   "outputs": [
    {
     "name": "stdout",
     "output_type": "stream",
     "text": [
      "9846793 rows\n",
      "2785.0 MB\n"
     ]
    }
   ],
   "source": [
    "print('{:d} rows'.format(len(df_lamost_LRS_stars)))\n",
    "print('{:.1f} MB'.format(df_lamost_LRS_stars.memory_usage(index=True,deep=True).sum()/1e6))"
   ]
  },
  {
   "cell_type": "code",
   "execution_count": null,
   "id": "01ccd80c",
   "metadata": {},
   "outputs": [],
   "source": []
  },
  {
   "cell_type": "code",
   "execution_count": 87,
   "id": "f24bc961",
   "metadata": {},
   "outputs": [],
   "source": [
    "unique_subclass = np.unique(df_lamost_LRS_stars['subclass'].astype(str))"
   ]
  },
  {
   "cell_type": "code",
   "execution_count": 88,
   "id": "4978aeda",
   "metadata": {},
   "outputs": [
    {
     "data": {
      "text/plain": [
       "array(['A0', 'A1', 'A2', 'A3', 'A5', 'A6', 'A7', 'A8', 'A9', 'B', 'B6',\n",
       "       'B9', 'CV', 'Carbon', 'CarbonWD', 'DoubleStar', 'EM', 'F0', 'F2',\n",
       "       'F3', 'F4', 'F5', 'F6', 'F7', 'F8', 'F9', 'G0', 'G1', 'G2', 'G3',\n",
       "       'G4', 'G5', 'G6', 'G7', 'G8', 'G9', 'K0', 'K1', 'K2', 'K3', 'K4',\n",
       "       'K5', 'K7', 'L0', 'O', 'OB', 'WD', 'dK7', 'dM0', 'dM1', 'dM2',\n",
       "       'dM3', 'dM4', 'dM5', 'dM6', 'dM7', 'dM8', 'dM9', 'gM0', 'gM1',\n",
       "       'gM2', 'gM3', 'gM4', 'gM5', 'gM6', 'gM7', 'gM8', 'gM9', 'sdM0',\n",
       "       'sdM1', 'sdM2', 'sdM3', 'sdM4', 'sdM5', 'sdM6', 'sdM7', 'sdM8'],\n",
       "      dtype=object)"
      ]
     },
     "execution_count": 88,
     "metadata": {},
     "output_type": "execute_result"
    }
   ],
   "source": [
    "unique_subclass"
   ]
  },
  {
   "cell_type": "code",
   "execution_count": 89,
   "id": "2829461f",
   "metadata": {},
   "outputs": [
    {
     "name": "stdout",
     "output_type": "stream",
     "text": [
      "A0  count: 15472\n",
      "A1  count: 131191\n",
      "A2  count: 125399\n",
      "A3  count: 42343\n",
      "A5  count: 82322\n",
      "A6  count: 60145\n",
      "A7  count: 112751\n",
      "A8  count: 6801\n",
      "A9  count: 21338\n",
      "B  count: 47\n",
      "B6  count: 10750\n",
      "B9  count: 7340\n",
      "CV  count: 424\n",
      "Carbon  count: 4644\n",
      "CarbonWD  count: 337\n",
      "DoubleStar  count: 5430\n",
      "EM  count: 311\n",
      "F0  count: 509981\n",
      "F2  count: 229176\n",
      "F3  count: 67759\n",
      "F4  count: 52482\n",
      "F5  count: 533421\n",
      "F6  count: 213171\n",
      "F7  count: 257098\n",
      "F8  count: 67666\n",
      "F9  count: 495355\n",
      "G0  count: 288873\n",
      "G1  count: 104634\n",
      "G2  count: 545291\n",
      "G3  count: 700260\n",
      "G4  count: 185371\n",
      "G5  count: 994085\n",
      "G6  count: 176981\n",
      "G7  count: 574715\n",
      "G8  count: 412806\n",
      "G9  count: 188126\n",
      "K0  count: 118587\n",
      "K1  count: 287486\n",
      "K2  count: 25893\n",
      "K3  count: 373549\n",
      "K4  count: 153669\n",
      "K5  count: 556471\n",
      "K7  count: 383355\n",
      "L0  count: 1\n",
      "O  count: 129\n",
      "OB  count: 20\n",
      "WD  count: 14531\n",
      "dK7  count: 9\n",
      "dM0  count: 216949\n",
      "dM1  count: 167680\n",
      "dM2  count: 110240\n",
      "dM3  count: 30162\n",
      "dM4  count: 112977\n",
      "dM5  count: 21651\n",
      "dM6  count: 2586\n",
      "dM7  count: 492\n",
      "dM8  count: 153\n",
      "dM9  count: 119\n",
      "gM0  count: 9399\n",
      "gM1  count: 7224\n",
      "gM2  count: 4767\n",
      "gM3  count: 4658\n",
      "gM4  count: 4638\n",
      "gM5  count: 3522\n",
      "gM6  count: 2511\n",
      "gM7  count: 2081\n",
      "gM8  count: 1216\n",
      "gM9  count: 1456\n",
      "sdM0  count: 2938\n",
      "sdM1  count: 807\n",
      "sdM2  count: 372\n",
      "sdM3  count: 138\n",
      "sdM4  count: 45\n",
      "sdM5  count: 8\n",
      "sdM6  count: 5\n",
      "sdM7  count: 2\n",
      "sdM8  count: 1\n"
     ]
    }
   ],
   "source": [
    "for vartype in unique_subclass:\n",
    "    v = df_lamost_LRS_stars[df_lamost_LRS_stars['subclass'] == vartype]\n",
    "    print(str(vartype) + \"  count: \"  + str(v.shape[0]))"
   ]
  },
  {
   "cell_type": "code",
   "execution_count": 90,
   "id": "b74e58ee",
   "metadata": {},
   "outputs": [],
   "source": [
    "\n",
    "df_O = pd.read_csv('df_O_60108_small.csv')\n",
    "df_B = pd.read_csv('df_B_812641.csv')\n",
    "df_A = pd.read_csv('df_A_1717083_small.csv')\n",
    "df_F = pd.read_csv('df_F_3000000_small.csv')\n",
    "df_G = pd.read_csv('df_G_3000000_small.csv')\n",
    "df_K = pd.read_csv('df_K_3000000_small.csv')\n",
    "df_M = pd.read_csv('df_M_1735402_small.csv')\n",
    "df_CSTAR = pd.read_csv('df_CSTAR_83028_small.csv')\n",
    "df_beStar = pd.read_csv('df_beStar_9138_small.csv')\n",
    "df_HerbigStar = pd.read_csv('df_HerbigStar_1897_small.csv')\n",
    "df_RedDwarfEmStar = pd.read_csv('df_RedDwarfEmStar_454_small.csv')\n",
    "df_rrlyrae = pd.read_csv('df_rrlyrae_10532_small.csv')\n",
    "df_TTauri = pd.read_csv('df_TTauri_28399_small.csv')\n",
    "df_wN = pd.read_csv('df_wN_185_small.csv')\n",
    "df_Very_Metal_Poor = pd.read_csv('df_Very_Metal_Poor_75849_small.csv')\n",
    "df_Extremely_Metal_Poor = pd.read_csv('df_Extremely_Metal_Poor_28869_small.csv')\n",
    "df_Ultra_Metal_Poor = pd.read_csv('df_Ultra_Metal_Poor_11187_small.csv')\n",
    "df_Unknown = pd.read_csv('df_Unknown_4635_small.csv')"
   ]
  },
  {
   "cell_type": "code",
   "execution_count": 91,
   "id": "f3bfe78d",
   "metadata": {},
   "outputs": [
    {
     "name": "stdout",
     "output_type": "stream",
     "text": [
      "df_mergedA: 13579407\n"
     ]
    }
   ],
   "source": [
    "df_mergedA = pd.concat([df_O, df_B, df_A, df_F, df_G, df_K, df_M, df_CSTAR,\n",
    "                       df_beStar, df_HerbigStar, df_RedDwarfEmStar, df_rrlyrae, df_TTauri, df_wN,\n",
    "                       df_Very_Metal_Poor, df_Extremely_Metal_Poor, df_Ultra_Metal_Poor, df_Unknown], ignore_index=True, sort=False)\n",
    "\n",
    "print(\"df_mergedA: \" + str(df_mergedA.shape[0]))\n"
   ]
  },
  {
   "cell_type": "code",
   "execution_count": 92,
   "id": "36f41208",
   "metadata": {},
   "outputs": [
    {
     "data": {
      "text/plain": [
       "769024"
      ]
     },
     "execution_count": 92,
     "metadata": {},
     "output_type": "execute_result"
    }
   ],
   "source": [
    "df_mergedB = pd.read_csv('xp_sampled_source_id_769025.csv')\n",
    "\n",
    "df_mergedB.shape[0]"
   ]
  },
  {
   "cell_type": "code",
   "execution_count": 93,
   "id": "cd878482",
   "metadata": {},
   "outputs": [
    {
     "data": {
      "text/plain": [
       "1007686"
      ]
     },
     "execution_count": 93,
     "metadata": {},
     "output_type": "execute_result"
    }
   ],
   "source": [
    "df_LRS1_stars = df_lamost_LRS_stars[df_lamost_LRS_stars['gaia_source_id'].astype(str).isin(df_mergedA['source_id'].astype(str))]\n",
    "df_LRS1_stars.shape[0]\n"
   ]
  },
  {
   "cell_type": "code",
   "execution_count": 94,
   "id": "e4bb9c46",
   "metadata": {},
   "outputs": [
    {
     "data": {
      "text/plain": [
       "329426"
      ]
     },
     "execution_count": 94,
     "metadata": {},
     "output_type": "execute_result"
    }
   ],
   "source": [
    "df_LRS2_stars = df_lamost_LRS_stars[df_lamost_LRS_stars['gaia_source_id'].astype(str).isin(df_mergedB['source_id'].astype(str))]\n",
    "df_LRS2_stars.shape[0]\n"
   ]
  },
  {
   "cell_type": "code",
   "execution_count": 95,
   "id": "ea654101",
   "metadata": {},
   "outputs": [
    {
     "data": {
      "text/plain": [
       "1212195"
      ]
     },
     "execution_count": 95,
     "metadata": {},
     "output_type": "execute_result"
    }
   ],
   "source": [
    "df_LRS_combined_stars = pd.concat([df_LRS1_stars, df_LRS2_stars], ignore_index=True)\n",
    "df_LRS_stars = df_LRS_combined_stars.drop_duplicates(keep='first')\n",
    "df_LRS_stars.shape[0]\n"
   ]
  },
  {
   "cell_type": "code",
   "execution_count": 96,
   "id": "93ee99cc",
   "metadata": {},
   "outputs": [
    {
     "data": {
      "text/plain": [
       "176959"
      ]
     },
     "execution_count": 96,
     "metadata": {},
     "output_type": "execute_result"
    }
   ],
   "source": [
    "df_MRS_combined_stars = df_LRS_stars[df_LRS_stars['gaia_source_id'].astype(str).isin(df_lamost_MRS_stars['gaia_source_id'].astype(str))]\n",
    "df_MRS_stars = df_MRS_combined_stars.drop_duplicates(keep='first')\n",
    "df_MRS_stars.shape[0]\n"
   ]
  },
  {
   "cell_type": "code",
   "execution_count": 149,
   "id": "2b81ef4e",
   "metadata": {},
   "outputs": [],
   "source": [
    "\n",
    "lamost_MRS_portal_flag = 'N'       # N - LRS only spectra gives 1,212,195 stars.  Y - Requires MRS and LRS spectra gives only 176,959 stars\n",
    "\n",
    "\n",
    "if lamost_MRS_portal_flag == 'Y':\n",
    "    df_target_stars = df_MRS_stars\n",
    "    df_target_O  = df_MRS_stars[df_MRS_stars['gaia_source_id'].astype(str).isin(df_O['source_id'].astype(str))]                                        # ('df_O_60108_small.csv')\n",
    "    df_target_B  = df_MRS_stars[df_MRS_stars['gaia_source_id'].astype(str).isin(df_B['source_id'].astype(str))]                                        # ('df_B_812641.csv')\n",
    "    df_target_A  = df_MRS_stars[df_MRS_stars['gaia_source_id'].astype(str).isin(df_A['source_id'].astype(str))]                                        # ('df_A_1000000.csv')\n",
    "    df_target_F  = df_MRS_stars[df_MRS_stars['gaia_source_id'].astype(str).isin(df_F['source_id'].astype(str))]                                        # ('df_F_1000000.csv')\n",
    "    df_target_G  = df_MRS_stars[df_MRS_stars['gaia_source_id'].astype(str).isin(df_G['source_id'].astype(str))]                                        # ('df_G_1000000.csv')\n",
    "    df_target_K  = df_MRS_stars[df_MRS_stars['gaia_source_id'].astype(str).isin(df_K['source_id'].astype(str))]                                        # ('df_K_1000000.csv')\n",
    "    df_target_M  = df_MRS_stars[df_MRS_stars['gaia_source_id'].astype(str).isin(df_M['source_id'].astype(str))]                                        # ('df_M_1000000.csv')\n",
    "    df_target_CSTAR  = df_MRS_stars[df_MRS_stars['gaia_source_id'].astype(str).isin(df_CSTAR['source_id'].astype(str))]                                # ('df_CSTAR_83028_small.csv')\n",
    "    df_target_beStar  = df_MRS_stars[df_MRS_stars['gaia_source_id'].astype(str).isin(df_beStar['source_id'].astype(str))]                              # ('df_beStar_9138_small.csv')\n",
    "    df_target_HerbigStar  = df_MRS_stars[df_MRS_stars['gaia_source_id'].astype(str).isin(df_HerbigStar['source_id'].astype(str))]                      # ('df_HerbigStar_1897_small.csv')\n",
    "    df_target_RedDwarfEmStar  = df_MRS_stars[df_MRS_stars['gaia_source_id'].astype(str).isin(df_RedDwarfEmStar['source_id'].astype(str))]              # ('df_RedDwarfEmStar_454_small.csv')\n",
    "    df_target_rrlyrae  = df_MRS_stars[df_MRS_stars['gaia_source_id'].astype(str).isin(df_rrlyrae['source_id'].astype(str))]                            # ('df_rrlyrae_10532_small.csv')\n",
    "    df_target_TTauri  = df_MRS_stars[df_MRS_stars['gaia_source_id'].astype(str).isin(df_TTauri['source_id'].astype(str))]                              # ('df_TTauri_28399_small.csv')\n",
    "    df_target_wN  = df_MRS_stars[df_MRS_stars['gaia_source_id'].astype(str).isin(df_wN['source_id'].astype(str))]                                      # ('df_wN_185_small.csv')\n",
    "    df_target_Very_Metal_Poor  = df_MRS_stars[df_MRS_stars['gaia_source_id'].astype(str).isin(df_Very_Metal_Poor['source_id'].astype(str))]            # ('df_Very_Metal_Poor_75849_small.csv')\n",
    "    df_target_Extremely_Metal_Poor  = df_MRS_stars[df_MRS_stars['gaia_source_id'].astype(str).isin(df_Extremely_Metal_Poor['source_id'].astype(str))]  # ('df_Extremely_Metal_Poor_28869_small.csv')\n",
    "    df_target_Ultra_Metal_Poor  = df_MRS_stars[df_MRS_stars['gaia_source_id'].astype(str).isin(df_Ultra_Metal_Poor['source_id'].astype(str))]          # ('df_Ultra_Metal_Poor_11187_small.csv')\n",
    "    df_target_Unknown  = df_MRS_stars[df_MRS_stars['gaia_source_id'].astype(str).isin(df_Unknown['source_id'].astype(str))] \n",
    "else:\n",
    "    df_target_stars = df_LRS_stars\n",
    "    df_target_O  = df_LRS_stars[df_LRS_stars['gaia_source_id'].astype(str).isin(df_O['source_id'].astype(str))]                                        # ('df_O_60108_small.csv')\n",
    "    df_target_B  = df_LRS_stars[df_LRS_stars['gaia_source_id'].astype(str).isin(df_B['source_id'].astype(str))]                                        # ('df_B_812641.csv')\n",
    "    df_target_A  = df_LRS_stars[df_LRS_stars['gaia_source_id'].astype(str).isin(df_A['source_id'].astype(str))]                                        # ('df_A_1000000.csv')\n",
    "    df_target_F  = df_LRS_stars[df_LRS_stars['gaia_source_id'].astype(str).isin(df_F['source_id'].astype(str))]                                        # ('df_F_1000000.csv')\n",
    "    df_target_G  = df_LRS_stars[df_LRS_stars['gaia_source_id'].astype(str).isin(df_G['source_id'].astype(str))]                                        # ('df_G_1000000.csv')\n",
    "    df_target_K  = df_LRS_stars[df_LRS_stars['gaia_source_id'].astype(str).isin(df_K['source_id'].astype(str))]                                        # ('df_K_1000000.csv')\n",
    "    df_target_M  = df_LRS_stars[df_LRS_stars['gaia_source_id'].astype(str).isin(df_M['source_id'].astype(str))]                                        # ('df_M_1000000.csv')\n",
    "    df_target_CSTAR  = df_LRS_stars[df_LRS_stars['gaia_source_id'].astype(str).isin(df_CSTAR['source_id'].astype(str))]                                # ('df_CSTAR_83028_small.csv')\n",
    "    df_target_beStar  = df_LRS_stars[df_LRS_stars['gaia_source_id'].astype(str).isin(df_beStar['source_id'].astype(str))]                              # ('df_beStar_9138_small.csv')\n",
    "    df_target_HerbigStar  = df_LRS_stars[df_LRS_stars['gaia_source_id'].astype(str).isin(df_HerbigStar['source_id'].astype(str))]                      # ('df_HerbigStar_1897_small.csv')\n",
    "    df_target_RedDwarfEmStar  = df_LRS_stars[df_LRS_stars['gaia_source_id'].astype(str).isin(df_RedDwarfEmStar['source_id'].astype(str))]              # ('df_RedDwarfEmStar_454_small.csv')\n",
    "    df_target_rrlyrae  = df_LRS_stars[df_LRS_stars['gaia_source_id'].astype(str).isin(df_rrlyrae['source_id'].astype(str))]                            # ('df_rrlyrae_10532_small.csv')\n",
    "    df_target_TTauri  = df_LRS_stars[df_LRS_stars['gaia_source_id'].astype(str).isin(df_TTauri['source_id'].astype(str))]                              # ('df_TTauri_28399_small.csv')\n",
    "    df_target_wN  = df_LRS_stars[df_LRS_stars['gaia_source_id'].astype(str).isin(df_wN['source_id'].astype(str))]                                      # ('df_wN_185_small.csv')\n",
    "    df_target_Very_Metal_Poor  = df_LRS_stars[df_LRS_stars['gaia_source_id'].astype(str).isin(df_Very_Metal_Poor['source_id'].astype(str))]            # ('df_Very_Metal_Poor_75849_small.csv')\n",
    "    df_target_Extremely_Metal_Poor  = df_LRS_stars[df_LRS_stars['gaia_source_id'].astype(str).isin(df_Extremely_Metal_Poor['source_id'].astype(str))]  # ('df_Extremely_Metal_Poor_28869_small.csv')\n",
    "    df_target_Ultra_Metal_Poor  = df_LRS_stars[df_LRS_stars['gaia_source_id'].astype(str).isin(df_Ultra_Metal_Poor['source_id'].astype(str))]          # ('df_Ultra_Metal_Poor_11187_small.csv')\n",
    "    df_target_Unknown  = df_LRS_stars[df_LRS_stars['gaia_source_id'].astype(str).isin(df_Unknown['source_id'].astype(str))] \n"
   ]
  },
  {
   "cell_type": "code",
   "execution_count": 150,
   "id": "b4be65e5",
   "metadata": {},
   "outputs": [],
   "source": [
    "unique_subclass = np.unique(df_target_stars['subclass'].astype(str))"
   ]
  },
  {
   "cell_type": "code",
   "execution_count": 151,
   "id": "130ca0fb",
   "metadata": {},
   "outputs": [
    {
     "name": "stdout",
     "output_type": "stream",
     "text": [
      "A0  count: 1953\n",
      "A1  count: 40052\n",
      "A2  count: 29839\n",
      "A3  count: 5319\n",
      "A5  count: 27603\n",
      "A6  count: 16685\n",
      "A7  count: 30697\n",
      "A8  count: 943\n",
      "A9  count: 2511\n",
      "B  count: 11\n",
      "B6  count: 3322\n",
      "B9  count: 1630\n",
      "CV  count: 51\n",
      "Carbon  count: 677\n",
      "CarbonWD  count: 7\n",
      "DoubleStar  count: 426\n",
      "EM  count: 14\n",
      "F0  count: 86723\n",
      "F2  count: 33327\n",
      "F3  count: 7990\n",
      "F4  count: 7222\n",
      "F5  count: 80702\n",
      "F6  count: 28427\n",
      "F7  count: 40296\n",
      "F8  count: 11001\n",
      "F9  count: 73715\n",
      "G0  count: 37562\n",
      "G1  count: 15739\n",
      "G2  count: 79431\n",
      "G3  count: 102040\n",
      "G4  count: 26959\n",
      "G5  count: 118511\n",
      "G6  count: 22547\n",
      "G7  count: 59839\n",
      "G8  count: 38718\n",
      "G9  count: 14930\n",
      "K0  count: 9763\n",
      "K1  count: 28431\n",
      "K2  count: 1655\n",
      "K3  count: 22416\n",
      "K4  count: 9872\n",
      "K5  count: 21213\n",
      "K7  count: 13833\n",
      "O  count: 23\n",
      "OB  count: 2\n",
      "WD  count: 996\n",
      "dM0  count: 11650\n",
      "dM1  count: 11948\n",
      "dM2  count: 7257\n",
      "dM3  count: 1360\n",
      "dM4  count: 6965\n",
      "dM5  count: 1231\n",
      "dM6  count: 130\n",
      "dM7  count: 25\n",
      "dM8  count: 16\n",
      "dM9  count: 9\n",
      "gM0  count: 2961\n",
      "gM1  count: 2917\n",
      "gM2  count: 2023\n",
      "gM3  count: 1922\n",
      "gM4  count: 2152\n",
      "gM5  count: 1380\n",
      "gM6  count: 951\n",
      "gM7  count: 770\n",
      "gM8  count: 462\n",
      "gM9  count: 335\n",
      "sdM0  count: 70\n",
      "sdM1  count: 23\n",
      "sdM2  count: 8\n",
      "sdM3  count: 3\n",
      "sdM4  count: 3\n",
      "sdM6  count: 1\n"
     ]
    }
   ],
   "source": [
    "for vartype in unique_subclass:\n",
    "    v = df_target_stars[df_target_stars['subclass'] == vartype]\n",
    "    print(str(vartype) + \"  count: \"  + str(v.shape[0]))"
   ]
  },
  {
   "cell_type": "code",
   "execution_count": 172,
   "id": "95ffba43",
   "metadata": {},
   "outputs": [],
   "source": [
    "#df_all_stars = df_target_stars\n",
    "\n",
    "#df_all_stars = df_target_O\n",
    "#df_all_stars = df_target_B\n",
    "#df_all_stars = df_target_A\n",
    "#df_all_stars = df_target_F\n",
    "#df_all_stars = df_target_G\n",
    "#df_all_stars = df_target_K\n",
    "#df_all_stars = df_target_M\n",
    "#df_all_stars = df_target_CSTAR\n",
    "#df_all_stars = df_target_beStar\n",
    "#df_all_stars = df_target_HerbigStar\n",
    "#df_all_stars = df_target_RedDwarfEmStar\n",
    "#df_all_stars = df_target_rrlyrae\n",
    "#df_all_stars = df_target_TTauri\n",
    "#df_all_stars = df_target_wN\n",
    "#df_all_stars = df_target_Very_Metal_Poor\n",
    "#df_all_stars = df_target_Extremely_Metal_Poor\n",
    "#df_all_stars = df_target_Ultra_Metal_Poor\n",
    "#df_all_stars = df_target_Unknown\n",
    "\n",
    "\n",
    "#\n",
    "# Add subclass filters of interest\n",
    "#\n",
    "\n",
    "#df_all_stars = df_target_stars[df_target_stars['subclass'] == 'CV']\n",
    "#df_all_stars = df_target_stars[df_target_stars['subclass'] == 'Carbon']\n",
    "#df_all_stars = df_target_stars[df_target_stars['subclass'] == 'CarbonWD']\n",
    "#df_all_stars = df_target_stars[df_target_stars['subclass'] == 'DoubleStar']\n",
    "#df_all_stars = df_target_stars[df_target_stars['subclass'] == 'EM']\n",
    "#df_all_stars = df_target_stars[df_target_stars['subclass'] == 'O']\n",
    "df_all_stars = df_target_stars[df_target_stars['subclass'] == 'OB']\n",
    "#df_all_stars = df_target_stars[df_target_stars['subclass'] == 'WD']\n",
    "#df_all_stars = df_target_stars[df_target_stars['subclass'] == 'gM0']\n",
    "#df_all_stars = df_target_stars[df_target_stars['subclass'] == 'sdM0']\n",
    "\n",
    "\n",
    "#df_all_stars = df_all_stars[df_all_stars['gaia_source_id'].astype(str) != '-9999']\n"
   ]
  },
  {
   "cell_type": "code",
   "execution_count": 173,
   "id": "6f4047b6",
   "metadata": {},
   "outputs": [
    {
     "data": {
      "text/html": [
       "<div>\n",
       "<style scoped>\n",
       "    .dataframe tbody tr th:only-of-type {\n",
       "        vertical-align: middle;\n",
       "    }\n",
       "\n",
       "    .dataframe tbody tr th {\n",
       "        vertical-align: top;\n",
       "    }\n",
       "\n",
       "    .dataframe thead th {\n",
       "        text-align: right;\n",
       "    }\n",
       "</style>\n",
       "<table border=\"1\" class=\"dataframe\">\n",
       "  <thead>\n",
       "    <tr style=\"text-align: right;\">\n",
       "      <th></th>\n",
       "      <th>obsid</th>\n",
       "      <th>designation</th>\n",
       "      <th>objtype</th>\n",
       "      <th>class</th>\n",
       "      <th>subclass</th>\n",
       "      <th>gaia_source_id</th>\n",
       "    </tr>\n",
       "  </thead>\n",
       "  <tbody>\n",
       "    <tr>\n",
       "      <th>653425</th>\n",
       "      <td>355212218</td>\n",
       "      <td>J201015.49+465939.8</td>\n",
       "      <td>FS</td>\n",
       "      <td>STAR</td>\n",
       "      <td>OB</td>\n",
       "      <td>2082789040962693632</td>\n",
       "    </tr>\n",
       "    <tr>\n",
       "      <th>949706</th>\n",
       "      <td>645309049</td>\n",
       "      <td>J132821.37+050856.1</td>\n",
       "      <td>Star</td>\n",
       "      <td>STAR</td>\n",
       "      <td>OB</td>\n",
       "      <td>3717793239823667200</td>\n",
       "    </tr>\n",
       "  </tbody>\n",
       "</table>\n",
       "</div>"
      ],
      "text/plain": [
       "            obsid          designation objtype class subclass  \\\n",
       "653425  355212218  J201015.49+465939.8    FS    STAR       OB   \n",
       "949706  645309049  J132821.37+050856.1    Star  STAR       OB   \n",
       "\n",
       "             gaia_source_id  \n",
       "653425  2082789040962693632  \n",
       "949706  3717793239823667200  "
      ]
     },
     "execution_count": 173,
     "metadata": {},
     "output_type": "execute_result"
    }
   ],
   "source": [
    "df_all_stars.head()"
   ]
  },
  {
   "cell_type": "code",
   "execution_count": 174,
   "id": "5e8e9dd8",
   "metadata": {},
   "outputs": [
    {
     "data": {
      "text/plain": [
       "2"
      ]
     },
     "execution_count": 174,
     "metadata": {},
     "output_type": "execute_result"
    }
   ],
   "source": [
    "df_stars = df_all_stars.drop_duplicates(keep='first')\n",
    "df_stars.shape[0]"
   ]
  },
  {
   "cell_type": "code",
   "execution_count": 175,
   "id": "0e85a6af",
   "metadata": {},
   "outputs": [
    {
     "data": {
      "text/html": [
       "<div>\n",
       "<style scoped>\n",
       "    .dataframe tbody tr th:only-of-type {\n",
       "        vertical-align: middle;\n",
       "    }\n",
       "\n",
       "    .dataframe tbody tr th {\n",
       "        vertical-align: top;\n",
       "    }\n",
       "\n",
       "    .dataframe thead th {\n",
       "        text-align: right;\n",
       "    }\n",
       "</style>\n",
       "<table border=\"1\" class=\"dataframe\">\n",
       "  <thead>\n",
       "    <tr style=\"text-align: right;\">\n",
       "      <th></th>\n",
       "      <th>obsid</th>\n",
       "      <th>designation</th>\n",
       "      <th>objtype</th>\n",
       "      <th>class</th>\n",
       "      <th>subclass</th>\n",
       "      <th>gaia_source_id</th>\n",
       "    </tr>\n",
       "  </thead>\n",
       "  <tbody>\n",
       "    <tr>\n",
       "      <th>653425</th>\n",
       "      <td>355212218</td>\n",
       "      <td>J201015.49+465939.8</td>\n",
       "      <td>FS</td>\n",
       "      <td>STAR</td>\n",
       "      <td>OB</td>\n",
       "      <td>2082789040962693632</td>\n",
       "    </tr>\n",
       "    <tr>\n",
       "      <th>949706</th>\n",
       "      <td>645309049</td>\n",
       "      <td>J132821.37+050856.1</td>\n",
       "      <td>Star</td>\n",
       "      <td>STAR</td>\n",
       "      <td>OB</td>\n",
       "      <td>3717793239823667200</td>\n",
       "    </tr>\n",
       "  </tbody>\n",
       "</table>\n",
       "</div>"
      ],
      "text/plain": [
       "            obsid          designation objtype class subclass  \\\n",
       "653425  355212218  J201015.49+465939.8    FS    STAR       OB   \n",
       "949706  645309049  J132821.37+050856.1    Star  STAR       OB   \n",
       "\n",
       "             gaia_source_id  \n",
       "653425  2082789040962693632  \n",
       "949706  3717793239823667200  "
      ]
     },
     "execution_count": 175,
     "metadata": {},
     "output_type": "execute_result"
    }
   ],
   "source": [
    "pd.set_option('display.max_columns', None)\n",
    "pd.set_option('display.max_rows', 100)\n",
    "\n",
    "df_stars.head(5)"
   ]
  },
  {
   "cell_type": "code",
   "execution_count": 176,
   "id": "d4a532e1",
   "metadata": {},
   "outputs": [],
   "source": [
    "unique_subclass = np.unique(df_stars['subclass'].astype(str))"
   ]
  },
  {
   "cell_type": "code",
   "execution_count": 177,
   "id": "41af240d",
   "metadata": {},
   "outputs": [
    {
     "data": {
      "text/plain": [
       "array(['OB'], dtype=object)"
      ]
     },
     "execution_count": 177,
     "metadata": {},
     "output_type": "execute_result"
    }
   ],
   "source": [
    "unique_subclass"
   ]
  },
  {
   "cell_type": "code",
   "execution_count": 178,
   "id": "c7911251",
   "metadata": {},
   "outputs": [
    {
     "name": "stdout",
     "output_type": "stream",
     "text": [
      "OB  count: 2\n"
     ]
    }
   ],
   "source": [
    "for vartype in unique_subclass:\n",
    "    v = df_stars[df_stars['subclass'] == vartype]\n",
    "    print(str(vartype) + \"  count: \"  + str(v.shape[0]))"
   ]
  },
  {
   "cell_type": "code",
   "execution_count": null,
   "id": "a665f344",
   "metadata": {},
   "outputs": [],
   "source": []
  },
  {
   "cell_type": "code",
   "execution_count": 179,
   "id": "7b5009ef",
   "metadata": {},
   "outputs": [
    {
     "data": {
      "text/plain": [
       "2"
      ]
     },
     "execution_count": 179,
     "metadata": {},
     "output_type": "execute_result"
    }
   ],
   "source": [
    "\n",
    "vartype = 'OB'\n",
    "\n",
    "df_variable = df_stars[df_stars['subclass'] == vartype]\n",
    "df_variable.shape[0]"
   ]
  },
  {
   "cell_type": "code",
   "execution_count": 180,
   "id": "558c647e",
   "metadata": {},
   "outputs": [],
   "source": [
    "dfs = df_variable.reset_index(drop=True)"
   ]
  },
  {
   "cell_type": "code",
   "execution_count": 181,
   "id": "9eb019b1",
   "metadata": {},
   "outputs": [
    {
     "data": {
      "text/html": [
       "<div>\n",
       "<style scoped>\n",
       "    .dataframe tbody tr th:only-of-type {\n",
       "        vertical-align: middle;\n",
       "    }\n",
       "\n",
       "    .dataframe tbody tr th {\n",
       "        vertical-align: top;\n",
       "    }\n",
       "\n",
       "    .dataframe thead th {\n",
       "        text-align: right;\n",
       "    }\n",
       "</style>\n",
       "<table border=\"1\" class=\"dataframe\">\n",
       "  <thead>\n",
       "    <tr style=\"text-align: right;\">\n",
       "      <th></th>\n",
       "      <th>obsid</th>\n",
       "      <th>designation</th>\n",
       "      <th>objtype</th>\n",
       "      <th>subclass</th>\n",
       "      <th>gaia_source_id</th>\n",
       "    </tr>\n",
       "  </thead>\n",
       "  <tbody>\n",
       "    <tr>\n",
       "      <th>0</th>\n",
       "      <td>355212218</td>\n",
       "      <td>J201015.49+465939.8</td>\n",
       "      <td>FS</td>\n",
       "      <td>OB</td>\n",
       "      <td>2082789040962693632</td>\n",
       "    </tr>\n",
       "    <tr>\n",
       "      <th>1</th>\n",
       "      <td>645309049</td>\n",
       "      <td>J132821.37+050856.1</td>\n",
       "      <td>Star</td>\n",
       "      <td>OB</td>\n",
       "      <td>3717793239823667200</td>\n",
       "    </tr>\n",
       "  </tbody>\n",
       "</table>\n",
       "</div>"
      ],
      "text/plain": [
       "       obsid          designation objtype subclass       gaia_source_id\n",
       "0  355212218  J201015.49+465939.8    FS         OB  2082789040962693632\n",
       "1  645309049  J132821.37+050856.1    Star       OB  3717793239823667200"
      ]
     },
     "execution_count": 181,
     "metadata": {},
     "output_type": "execute_result"
    }
   ],
   "source": [
    "dfs[['obsid', 'designation', 'objtype', 'subclass', 'gaia_source_id']].head()"
   ]
  },
  {
   "cell_type": "code",
   "execution_count": 182,
   "id": "73a7327e",
   "metadata": {},
   "outputs": [],
   "source": [
    "dfs['source_id'] = dfs['gaia_source_id'].astype('Int64')"
   ]
  },
  {
   "cell_type": "code",
   "execution_count": 183,
   "id": "0e31cf7d",
   "metadata": {},
   "outputs": [
    {
     "data": {
      "text/plain": [
       "[2082789040962693632, 3717793239823667200]"
      ]
     },
     "execution_count": 183,
     "metadata": {},
     "output_type": "execute_result"
    }
   ],
   "source": [
    "gaia_list = dfs['source_id'][0:10].to_list()   # Change range as needed but keep is reasonable else Gaia may cancel the connection\n",
    "\n",
    "gaia_list"
   ]
  },
  {
   "cell_type": "code",
   "execution_count": 192,
   "id": "0cd48dea",
   "metadata": {},
   "outputs": [
    {
     "data": {
      "text/plain": [
       "'3717793239823667200'"
      ]
     },
     "execution_count": 192,
     "metadata": {},
     "output_type": "execute_result"
    }
   ],
   "source": [
    "\n",
    "source_id_target = '3717793239823667200'\n",
    "source_id_target"
   ]
  },
  {
   "cell_type": "code",
   "execution_count": 193,
   "id": "2569c984",
   "metadata": {},
   "outputs": [
    {
     "name": "stdout",
     "output_type": "stream",
     "text": [
      "lamost_LRS_designation: J132821.37+050856.1\n",
      "lamost_LRS_subclass: OB\n",
      "lamost_LRS_obsid: 645309049\n"
     ]
    }
   ],
   "source": [
    "des = dfs[dfs['gaia_source_id'].astype(str) == source_id_target]\n",
    "\n",
    "lamost_LRS_designation = des['designation'].iloc[0]\n",
    "lamost_LRS_subclass = des['subclass'].iloc[0]\n",
    "lamost_LRS_obsid = des['obsid'].iloc[0]\n",
    "\n",
    "print(\"lamost_LRS_designation: \" + str(lamost_LRS_designation))\n",
    "print(\"lamost_LRS_subclass: \" + str(lamost_LRS_subclass))\n",
    "print(\"lamost_LRS_obsid: \" + str(lamost_LRS_obsid))"
   ]
  },
  {
   "cell_type": "code",
   "execution_count": 194,
   "id": "b6c75075",
   "metadata": {},
   "outputs": [],
   "source": [
    "\n",
    "if lamost_MRS_portal_flag == 'Y':\n",
    "    des = df_lamost_MRS_stars[df_lamost_MRS_stars['gaia_source_id'].astype(str) == source_id_target]\n",
    "\n",
    "    lamost_MRS_designation = des['designation'].iloc[0]\n",
    "    lamost_MRS_mobsid = des['mobsid'].iloc[0]\n",
    "    lamost_MRS_obsid = des['obsid'].iloc[0]\n",
    "\n",
    "    print(\"lamost_MRS_designation: \" + str(lamost_MRS_designation))\n",
    "    print(\"lamost_MRS_mobsid: \" + str(lamost_MRS_mobsid))\n",
    "    print(\"lamost_MRS_obsid: \" + str(lamost_MRS_obsid))"
   ]
  },
  {
   "cell_type": "code",
   "execution_count": 195,
   "id": "811aa84a",
   "metadata": {},
   "outputs": [
    {
     "name": "stdout",
     "output_type": "stream",
     "text": [
      "INFO: Query finished. [astroquery.utils.tap.core]\n",
      "[3717793239823667200]\n",
      "\n",
      "Done!\n"
     ]
    }
   ],
   "source": [
    "\n",
    "# RETRIEVE A SET OF SOURCES WITH XP SAMPLED SPECTRA OBAFGKM & CSTAR\n",
    "\n",
    "query = f\"SELECT TOP 10 s.*, p.* \\\n",
    "FROM gaiadr3.gaia_source AS s \\\n",
    "join gaiadr3.astrophysical_parameters AS p USING (source_id) \\\n",
    "WHERE s.has_xp_sampled = 'True' \\\n",
    "AND p.source_id = \" + str(source_id_target)\n",
    "\n",
    "job     = Gaia.launch_job_async(query)\n",
    "job_results = job.get_results()\n",
    "\n",
    "target = job_results.to_pandas()\n",
    "\n",
    "results = target['source_id'].values.tolist()\n",
    "print(results)\n",
    "\n",
    "print(\"\\nDone!\")"
   ]
  },
  {
   "cell_type": "code",
   "execution_count": 196,
   "id": "f8d05f53",
   "metadata": {},
   "outputs": [],
   "source": [
    "\n",
    "target['SpT2'] = target.apply(lambda row: starcolorindexSpT.subclass[round(row.bp_rp, 2)], axis=1)\n",
    "\n",
    "target['SpT2_dereddened'] = target.apply(lambda row: starcolorindexSpT.subclass[round((row.bp_rp - row.ebpminrp_gspphot), 2)], axis=1)"
   ]
  },
  {
   "cell_type": "code",
   "execution_count": 197,
   "id": "c12cc356",
   "metadata": {},
   "outputs": [],
   "source": [
    "\n",
    "conditions = [\n",
    "    (target['logg_gspphot'].astype(float) > 4.20),\n",
    "    ((target['logg_gspphot'].astype(float) <= 4.20) & (target['logg_gspphot'].astype(float) > 3.90)),\n",
    "    ((target['logg_gspphot'].astype(float) <= 3.90) & (target['logg_gspphot'].astype(float) > 3.60)),\n",
    "    ((target['logg_gspphot'].astype(float) < 2.55) & (target['logg_gspphot'].astype(float) > 2.35)),\n",
    "    (target['logg_gspphot'].astype(float) <= 3.60),\n",
    "    (target['logg_gspphot'].isna())\n",
    "]\n",
    "\n",
    "values = ['main_sequence', 'turnoff', 'subgiants', 'red_clump', 'red_giants', 'unknown']\n",
    "\n",
    "target['Star_Type'] = np.select(conditions, values)"
   ]
  },
  {
   "cell_type": "code",
   "execution_count": 198,
   "id": "71ba9dbd",
   "metadata": {},
   "outputs": [],
   "source": [
    "cds_portal_flag    = 'N'\n",
    "simbad_portal_flag = 'Y'\n",
    "sdss_portal_flag   = 'N'\n",
    "vizier_portal_flag = 'N'\n",
    "lamost_LRS_portal_flag = 'Y'"
   ]
  },
  {
   "cell_type": "code",
   "execution_count": 199,
   "id": "1c372a1b",
   "metadata": {},
   "outputs": [
    {
     "name": "stdout",
     "output_type": "stream",
     "text": [
      "\n",
      "1: 3717793239823667200 has_xp_sampled: True\n",
      "\n",
      "Ra: 202.0889994492338\n",
      "Dec: 5.148902573232763\n",
      "\n",
      "Source_Id: 3717793239823667200\n",
      "\n",
      "PG 1325+054\n",
      "NVSS J132822+050933\n",
      "\n",
      "Simbad star subclass: [\"sdO8VIIHe40\"]\n",
      "\n",
      "BP_RP star subclass: B2\n",
      "BP_RP dereddened star subclass: Unknown\n",
      "classlabel_espels: \n",
      "Star Type: unknown\n",
      "\n",
      "lamost_LRS_designation: J132821.37+050856.1\n",
      "lamost_LRS_obsid: 645309049\n",
      "lamost_LRS_subclass: OB\n",
      "\n"
     ]
    },
    {
     "data": {
      "image/png": "[encoded data removed]",
      "text/plain": [
       "<Figure size 2000x1000 with 1 Axes>"
      ]
     },
     "metadata": {},
     "output_type": "display_data"
    },
    {
     "name": "stdout",
     "output_type": "stream",
     "text": [
      "\n",
      "3717793239823667200 has_rvs: False\n",
      "\n",
      "\n",
      "Done!\n"
     ]
    }
   ],
   "source": [
    "for idx in range(0, len(results)):\n",
    "    print(\"\\n1: \" + str(results[idx]) + ' has_xp_sampled: ' + str(target['has_xp_sampled'].iloc[idx]))                        # 1st print statement\n",
    "    if target['has_xp_sampled'].iloc[idx] == True:\n",
    "        datalink = Gaia.load_data(results[idx], data_structure = 'INDIVIDUAL', retrieval_type = 'XP_SAMPLED')\n",
    "        outputs = [datalink[key][0] for key in datalink.keys()]\n",
    "\n",
    "        #print(\"2: \" + str(results[idx]) + \" Number of stars with XP Spectra: \" + str(len(outputs)))                         # 2nd print statement\n",
    "        if outputs is not None:\n",
    "            #print(\"3: \" + \"outputs is not None\")                                                                            # 3rd print statement\n",
    "            if len(outputs) > 0:\n",
    "                #print(\"4: \" + \"len(outputs): \" + str(len(outputs)))                                                         # 4th print statement\n",
    "\n",
    "                # ====================================================================================\n",
    "                xRa = str(target['ra'].iloc[idx])\n",
    "                yDec = str(target['dec'].iloc[idx])\n",
    "                source_id = str(target['source_id'].iloc[idx])\n",
    "\n",
    "                print(\"\\n\" + \"Ra: \" + str(xRa))                                                                            \n",
    "                print(\"Dec: \" + str(yDec))  \n",
    "                print(\"\\n\" + \"Source_Id: \" + str(source_id) + \"\\n\")              \n",
    "\n",
    "                if lamost_LRS_portal_flag == 'Y':\n",
    "                    lamost_portal = 'https://dr7.lamost.org/spectrum/view?obsid=' + str(lamost_LRS_obsid)\n",
    "                    webbrowser.open(lamost_portal)     \n",
    "\n",
    "                if lamost_MRS_portal_flag == 'Y':\n",
    "                    lamost_MRS_portal = 'https://dr7.lamost.org/v2.0/medspectrum/view?obsid=' + str(lamost_MRS_obsid)\n",
    "                    webbrowser.open(lamost_MRS_portal)\n",
    "\n",
    "                if cds_portal_flag == 'Y':\n",
    "                    cds_portal = 'http://cdsportal.u-strasbg.fr/?target=' + str(xRa) + '%20' + str(yDec)\n",
    "                    webbrowser.open(cds_portal) \n",
    "\n",
    "                if simbad_portal_flag == 'Y':\n",
    "                    simbad_portal = 'http://simbad.cds.unistra.fr/simbad/sim-coo?Coord=' + str(xRa) + '+' + str(yDec) + \\\n",
    "                                '&CooFrame=FK5&CooEpoch=2000&CooEqui=2000&CooDefinedFrames=none&Radius=2&Radius.unit=arcmin&submit=submit+query'\n",
    "                    webbrowser.open(simbad_portal)  \n",
    "\n",
    "                if sdss_portal_flag == 'Y':\n",
    "                    sdss_portal = 'http://skyserver.sdss.org/dr17/VisualTools/quickobj?ra=' + str(xRa) + '&dec=' + str(yDec)\n",
    "                    webbrowser.open(sdss_portal)           \n",
    "\n",
    "                if vizier_portal_flag == 'Y':\n",
    "                    vizier_portal = 'http://vizier.u-strasbg.fr/viz-bin/VizieR-S?Gaia%20EDR3%20' + str(source_id) \n",
    "                    webbrowser.open(vizier_portal)                                          \n",
    "\n",
    "                result_table = Simbad.query_region(coord.SkyCoord(str(xRa) + \" \" + str(yDec), \n",
    "                    unit=(u.deg, u.deg),frame='icrs'))\n",
    "\n",
    "                #print(\"5: \" + str(result_table))                                                                            # 5th print statement\n",
    "                if result_table is not None:\n",
    "                    if len(result_table) > 0:\n",
    "                        #print(\"6: \" + \"Ra: \" + str(xRa))                                                                     # 6th print statement\n",
    "                        #print(\"7: \" + \"Dec: \" + str(yDec))                                                                   # 7th print statement\n",
    "\n",
    "                        for i in range(0, len(result_table['MAIN_ID'])):\n",
    "                            if i < 5:\n",
    "                                print(result_table['MAIN_ID'][i])\n",
    "\n",
    "                        target1 = result_table['MAIN_ID'][0]\n",
    "\n",
    "                        object = Simbad.query_object(target1)\n",
    "\n",
    "                        tap_service = vo.dal.TAPService(\"http://simbad.u-strasbg.fr/simbad/sim-tap\")\n",
    "\n",
    "                        tap_sql = \"SELECT main_id, sp_type, otype_txt, otype_longname \\\n",
    "                                        FROM basic JOIN ident ON oidref = oid \\\n",
    "                                            JOIN otypedef ON basic.otype = otypedef.otype \\\n",
    "                                        WHERE id = '\" + str(target1) + \"';\"\n",
    "\n",
    "                        tap_results = tap_service.search(tap_sql)\n",
    "                        sptype = tap_results['sp_type']\n",
    "                        txt = str(sptype).split(\"=\")\n",
    "                        txt = str(txt).replace(\"['\", \"\")\n",
    "                        sp_txt = str(txt).replace(\"']\", \"\")\n",
    "                        print(\"\\n\" + \"Simbad star subclass: \" + str(sp_txt))\n",
    "\n",
    "\n",
    "                print(\"\\n\" + \"BP_RP star subclass: \" + str(target['SpT2'].iloc[idx]))\n",
    "                print(\"BP_RP dereddened star subclass: \" + str(target['SpT2_dereddened'].iloc[idx]))\n",
    "                print(\"classlabel_espels: \" + str(target['classlabel_espels'].iloc[idx]))\n",
    "                print(\"Star Type: \" + str(target['Star_Type'].iloc[idx]))\n",
    "                if lamost_LRS_portal_flag == 'Y':\n",
    "                    print(\"\\nlamost_LRS_designation: \"  + str(lamost_LRS_designation))\n",
    "                    print(\"lamost_LRS_obsid: \"  + str(lamost_LRS_obsid))\n",
    "                    print(\"lamost_LRS_subclass: \" + str(lamost_LRS_subclass) + '\\n' )\n",
    "                if lamost_MRS_portal_flag == 'Y':\n",
    "                    print(\"lamost_MRS_designation: \"  + str(lamost_MRS_designation))\n",
    "                    print(\"lamost_MRS_obsid: \"  + str(lamost_MRS_obsid))\n",
    "                    print(\"lamost_MRS_mobsid: \" + str(lamost_MRS_mobsid) + '\\n' )\n",
    "                #print(\"SpTypeSim: \" +  str(SpTypeSim))\n",
    "                #print(\"SpTypeSD: \" +  str(SpTypeSD))\n",
    "                #print(\"SpName: \" +  str(SpName))\n",
    "                #print('\\nasassn_name: ' + str(df_variable[['asassn_name']].values))\n",
    "                #print('other_names: ' + str(df_variable[['other_names']].values))\n",
    "                #print(\"ASAS_SN Variable Type: \" + str(df_variable[['variable_type']].values))\n",
    "                #print(\"\\nlamost_designation: \"  + str(lamost_designation))\n",
    "                #print(\"lamost_obsid: \"  + str(lamost_obsid))\n",
    "                #print(\"lamost_subclass: \" + str(lamost_subclass))\n",
    "                #print(\"Star Distance [pc]: \" + str(int(target['distance_gspphot'].iloc[idx])))\n",
    "                #print(\"Star Distance [light years]: \" + str(int(target['distance_gspphot'].iloc[idx] * 3.26156)) + \"\\n\")\n",
    "\n",
    "                # ====================================================================================\n",
    "\n",
    "\n",
    "                xp      = outputs[0].to_table()                       \n",
    "\n",
    "                # Add flux-density columns ============================\n",
    "                xp['flux_jy']         = xp['flux'].to(u.Jansky, equivalencies = u.spectral_density(xp['wavelength'].value * xp['wavelength'].unit))\n",
    "                xp['flux_mjy']        = xp['flux_jy'].to(u.millijansky)\n",
    "                xp['flux_mjy'].format = '7.4f'\n",
    "                \n",
    "                # =========\n",
    "                \n",
    "                #display(xp)\n",
    "\n",
    "                # =========\n",
    "\n",
    "                fig       = plt.figure(figsize=[20,10])\n",
    "\n",
    "                yRangeMax = float(xp['flux'].max())\n",
    "\n",
    "                plt.plot(xp['wavelength']*10, xp['flux']/yRangeMax * 2, linewidth = 2, marker='o', markerfacecolor='red') \n",
    "                plt.title('XP_SAMPLED Spectra Gaia DR3 Class '+ str(target['spectraltype_esphs'].iloc[idx]) + \n",
    "                ' \\nLogG: ' + str(round(target['logg_gspphot'].iloc[idx], 2)) + \n",
    "                '    Teff: ' + str(round(target['teff_gspphot'].iloc[idx],0)) +\n",
    "                '    Mass: ' + str(round(target['mass_flame'].iloc[idx],2)) +\n",
    "                '    Luminosity: ' + str(round(target['lum_flame'].iloc[idx],2)) +\n",
    "                '    Radius: ' + str(round(target['radius_gspphot'].iloc[idx],2)) +\n",
    "                '    Age: ' + str(round(target['age_flame'].iloc[idx],2)) +\n",
    "                '    [M/H]: ' + str(round(target['mh_gspphot'].iloc[idx],2)) +\n",
    "                '    [Alpha/Fe]: ' + str(round(target['alphafe_gspspec'].iloc[idx],2)) +\n",
    "                '\\nRa: ' + str(target['ra'].iloc[idx]) + \"    Dec: \" + str(target['dec'].iloc[idx]) +\n",
    "                ' \\nSource_ID: ' + str(target['source_id'].iloc[idx]), fontsize=15)\n",
    "\n",
    "                if make_canvas_flag == \"Y\":\n",
    "                    make_canvas(xlabel = f\"Wavelength [{xp['wavelength'].unit}]\", ylabel = f\"Flux [{xp['flux'].unit}]\", \n",
    "                                fontsize = 12)\n",
    "                #else:\n",
    "                    #make_labels()\n",
    "\n",
    "                if hydrogen_lines_flag == \"Y\":\n",
    "                    Hydrogen_lines(xlabel = f\"Wavelength [{xp['wavelength'].unit}]\", ylabel = f\"Flux [{xp['flux'].unit}]\", \n",
    "                                   fontsize = 12)\n",
    "\n",
    "                plt.show()\n",
    "\n",
    "\n",
    "                \n",
    "                    \n",
    "        print(\"\\n\" + str(results[idx]) + ' has_rvs: ' + str(target['has_rvs'].iloc[idx]) + \"\\n\")\n",
    "        if target['has_rvs'].iloc[idx] == True:\n",
    "            datalinkRVS = Gaia.load_data(results[idx], data_structure = 'INDIVIDUAL', retrieval_type = 'RVS')\n",
    "            outputsRVS = [datalinkRVS[key][0] for key in datalinkRVS.keys()]\n",
    "            #print(\"datalinkRVS: \" + str(datalinkRVS))\n",
    "\n",
    "            if outputsRVS is not None:\n",
    "                if len(outputsRVS) >0:\n",
    "                    xpRVS      = outputsRVS[0].to_table()\n",
    "\n",
    "                    # =========\n",
    "                \n",
    "                    #display(xpRVS)\n",
    "\n",
    "                    # =========\n",
    "\n",
    "                    fig       = plt.figure(figsize=[20,10])\n",
    "\n",
    "                    yRangeMax = float(xpRVS['flux'].max())\n",
    "\n",
    "                    plt.plot(xpRVS['wavelength']*10, xpRVS['flux']/yRangeMax * 2, linewidth = 2, marker='.', markerfacecolor='red') \n",
    "                    plt.title('RVS Spectra Gaia DR3 Class '+ str(target['spectraltype_esphs'].iloc[idx]) + \n",
    "                    ' \\nLogG: ' + str(round(target['logg_gspspec'].iloc[idx], 2)) + \n",
    "                    '    Teff: ' + str(round(target['teff_gspspec'].iloc[idx],0)) +\n",
    "                    '    Mass: ' + str(round(target['mass_flame'].iloc[idx],2)) +\n",
    "                    '    Luminosity: ' + str(round(target['lum_flame'].iloc[idx],2)) +\n",
    "                    '    Radius: ' + str(round(target['radius_gspphot'].iloc[idx],2)) +\n",
    "                    '    Age: ' + str(round(target['age_flame'].iloc[idx],2)) +\n",
    "                    '    [M/H]: ' + str(round(target['mh_gspspec'].iloc[idx],2)) +\n",
    "                    '    [Alpha/Fe]: ' + str(round(target['alphafe_gspspec'].iloc[idx],2)) +\n",
    "                    '\\nRa: ' + str(target['ra'].iloc[idx]) + \"    Dec: \" + str(target['dec'].iloc[idx]) +\n",
    "                    ' \\nSource_ID: ' + str(target['source_id'].iloc[idx]), fontsize=15)\n",
    "\n",
    "                    if make_canvas_flag == \"Y\":\n",
    "                        #make_canvas(xlabel = f\"Wavelength [{xp['wavelength'].unit}]\", ylabel = f\"Flux [{xp['flux'].unit}]\", fontsize = 12)\n",
    "                        #make_labels()\n",
    "                        make_RVS_canvas()\n",
    "                        \n",
    "                    plt.show()\n",
    "\n",
    "\n",
    "                    fig       = plt.figure(figsize=[20,10])\n",
    "\n",
    "                    yRangeMax = float(xpRVS['flux'].max())\n",
    "\n",
    "                    plt.plot(xpRVS['wavelength']*10, xpRVS['flux']/yRangeMax * 2, linewidth = 2, marker='.', markerfacecolor='red') \n",
    "                    plt.title('RVS Spectra Gaia DR3 Class '+ str(target['spectraltype_esphs'].iloc[idx]) + \n",
    "                    ' \\nLogG: ' + str(round(target['logg_gspspec'].iloc[idx], 2)) + \n",
    "                    '    Teff: ' + str(round(target['teff_gspspec'].iloc[idx],0)) +\n",
    "                    '    Mass: ' + str(round(target['mass_flame'].iloc[idx],2)) +\n",
    "                    '    Luminosity: ' + str(round(target['lum_flame'].iloc[idx],2)) +\n",
    "                    '    Radius: ' + str(round(target['radius_gspphot'].iloc[idx],2)) +\n",
    "                    '    Age: ' + str(round(target['age_flame'].iloc[idx],2)) +\n",
    "                    '    [M/H]: ' + str(round(target['mh_gspspec'].iloc[idx],2)) +\n",
    "                    '    [Alpha/Fe]: ' + str(round(target['alphafe_gspspec'].iloc[idx],2)) +\n",
    "                    '\\nRa: ' + str(target['ra'].iloc[idx]) + \"    Dec: \" + str(target['dec'].iloc[idx]) +\n",
    "                    ' \\nSource_ID: ' + str(target['source_id'].iloc[idx]), fontsize=15)\n",
    "\n",
    "                    plt.xlim(8460, 8580)\n",
    "\n",
    "                    if make_canvas_flag == \"Y\":\n",
    "                        #make_canvas(xlabel = f\"Wavelength [{xp['wavelength'].unit}]\", ylabel = f\"Flux [{xp['flux'].unit}]\", fontsize = 12)\n",
    "                        #make_labels()\n",
    "                        make_RVS_canvas1()\n",
    "                        \n",
    "                    plt.show()\n",
    "\n",
    "\n",
    "                    fig       = plt.figure(figsize=[20,10])\n",
    "\n",
    "                    yRangeMax = float(xpRVS['flux'].max())\n",
    "\n",
    "                    plt.plot(xpRVS['wavelength']*10, xpRVS['flux']/yRangeMax * 2, linewidth = 2, marker='.', markerfacecolor='red') \n",
    "                    plt.title('RVS Spectra Gaia DR3 Class '+ str(target['spectraltype_esphs'].iloc[idx]) + \n",
    "                    ' \\nLogG: ' + str(round(target['logg_gspspec'].iloc[idx], 2)) + \n",
    "                    '    Teff: ' + str(round(target['teff_gspspec'].iloc[idx],0)) +\n",
    "                    '    Mass: ' + str(round(target['mass_flame'].iloc[idx],2)) +\n",
    "                    '    Luminosity: ' + str(round(target['lum_flame'].iloc[idx],2)) +\n",
    "                    '    Radius: ' + str(round(target['radius_gspphot'].iloc[idx],2)) +\n",
    "                    '    Age: ' + str(round(target['age_flame'].iloc[idx],2)) +\n",
    "                    '    [M/H]: ' + str(round(target['mh_gspspec'].iloc[idx],2)) +\n",
    "                    '    [Alpha/Fe]: ' + str(round(target['alphafe_gspspec'].iloc[idx],2)) +\n",
    "                    '\\nRa: ' + str(target['ra'].iloc[idx]) + \"    Dec: \" + str(target['dec'].iloc[idx]) +\n",
    "                    ' \\nSource_ID: ' + str(target['source_id'].iloc[idx]), fontsize=15)\n",
    "\n",
    "                    plt.xlim(8580, 8700)\n",
    "\n",
    "                    if make_canvas_flag == \"Y\":\n",
    "                        #make_canvas(xlabel = f\"Wavelength [{xp['wavelength'].unit}]\", ylabel = f\"Flux [{xp['flux'].unit}]\", fontsize = 12)\n",
    "                        #make_labels()\n",
    "                        make_RVS_canvas2()\n",
    "                        \n",
    "                    plt.show()\n",
    "\n",
    "\n",
    "        #print(str(results[idx]) + ' has_xp_continuous: ' + str(target['has_xp_continuouss'].iloc[idx]))\n",
    "        if target['has_xp_continuous'].iloc[idx] == True:\n",
    "            datalinkXPC = Gaia.load_data(results[idx], data_structure = 'INDIVIDUAL', retrieval_type = 'XP_CONTINUOUS')\n",
    "            outputsXPC = [datalinkXPC[key][0] for key in datalinkXPC.keys()]\n",
    "            #print(\"datalinkXPC: \" + str(datalinkXPC))\n",
    "\n",
    "           \n",
    "\n",
    "print(\"\\nDone!\")"
   ]
  },
  {
   "cell_type": "code",
   "execution_count": null,
   "id": "e8a2407e",
   "metadata": {},
   "outputs": [],
   "source": []
  }
 ],
 "metadata": {
  "kernelspec": {
   "display_name": "Python 3 (ipykernel)",
   "language": "python",
   "name": "python3"
  },
  "language_info": {
   "codemirror_mode": {
    "name": "ipython",
    "version": 3
   },
   "file_extension": ".py",
   "mimetype": "text/x-python",
   "name": "python",
   "nbconvert_exporter": "python",
   "pygments_lexer": "ipython3",
   "version": "3.8.5"
  }
 },
 "nbformat": 4,
 "nbformat_minor": 5
}

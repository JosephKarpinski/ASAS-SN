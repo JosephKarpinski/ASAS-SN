{
 "cells": [
  {
   "cell_type": "code",
   "execution_count": 1,
   "metadata": {},
   "outputs": [
    {
     "data": {
      "text/plain": [
       "True"
      ]
     },
     "execution_count": 1,
     "metadata": {},
     "output_type": "execute_result"
    }
   ],
   "source": [
    "import webbrowser\n",
    "\n",
    "webbrowser.open('https://esahubble.org/images/archive/category/galaxies/')\n",
    "\n",
    "#webbrowser.open('https://esahubble.org/images/')"
   ]
  },
  {
   "cell_type": "code",
   "execution_count": 1,
   "metadata": {},
   "outputs": [
    {
     "name": "stdout",
     "output_type": "stream",
     "text": [
      "/Users/josephkarpinski/opt/anaconda3/envs/env3114/bin/python\n"
     ]
    }
   ],
   "source": [
    "import sys\n",
    "\n",
    "print(sys.executable)\n",
    "\n",
    "import warnings\n",
    "\n",
    "if not sys.warnoptions:\n",
    "    warnings.simplefilter(\"ignore\")\n",
    "    \n",
    "import matplotlib.pyplot as plt\n",
    "import numpy as np\n",
    "import pandas as pd\n",
    "import scipy as sp\n",
    "\n",
    "from astroquery.simbad import Simbad"
   ]
  },
  {
   "cell_type": "code",
   "execution_count": 2,
   "metadata": {},
   "outputs": [],
   "source": [
    "pd.options.display.max_columns = None\n",
    "pd.set_option('display.max_rows', 2000)"
   ]
  },
  {
   "cell_type": "code",
   "execution_count": 47,
   "metadata": {},
   "outputs": [],
   "source": [
    "#target, ESA_name = '2MASX J06094582-2140234',  'potw1430a'  # 2MASX J06094582-2140234 - IRAS 06076-2139 -- Emission-line galaxy\n",
    "#target, ESA_name = '2MASX J14345060+0338423',  'potw1726a'  # 2MASX J14345060+0338423 -- Seyfert 1 Galaxy\n",
    "#target, ESA_name = '2MASX J15161917+0709442',  'potw1435a' # PGC 54493 - Spiral in Serpens - 2MASX J15161917+0709442 -- LINER-type Active Galaxy Nucleus\n",
    "\n",
    "#target, ESA_name = 'Abell 370',   'heic1816a'  # Abell 370 -- ACO 370 -- Cluster of Galaxies\n",
    "#target, ESA_name = 'Abell 1413',  'potw1445a'  # Abell 1413 - ACO 1413 -- Cluster of Galaxies\n",
    "#target, ESA_name = 'Abell 1703',  'heic0814b'  # Abell 1701\n",
    "#target, ESA_name = 'Abell 1758',  'heic1801a'  # Abell 1758 - ACO 1758 -- Cluster of Galaxies\n",
    "#target, ESA_name = 'Abell 2218',  'heic0814a'  # Abell 2218 \n",
    "#target, ESA_name = 'Abell 2744',  'opo1443a'   # Abell 2744 - ACO 2744 -- Cluster of Galaxies\n",
    "#target, ESA_name = 'Abell 3827',  'potw2118a'  # ACO 3827 -- Cluster of Galaxies\n",
    "\n",
    "\n",
    "#target, ESA_name = 'Abell S1063', 'heic1820a'  # Intracluster light in Abell S1063 - ACO S 1063 -- Cluster of Galaxies\n",
    "\n",
    "#target, ESA_name = 'ACO S 295',  'potw2120a'  # ACO S 295 -- A Menagerie of Galaxies -- Cluster of Galaxies\n",
    "#target, ESA_name = 'ACO S 1063', 'heic1820a'  # Intracluster light in Abell S1063 - ACO S 1063 -- Cluster of Galaxies\n",
    "#target, ESA_name = 'ACO 2813',   'potw2115a'  # ACO 2813 -- Cluster of Galaxies\n",
    "\n",
    "#target, ESA_name = 'ACT-CL J0102-4915',  'potw1802a'  # ACT-CL J0102-4915 -- Cluster of Galaxies\n",
    "\n",
    "#target, ESA_name = 'AM 0644-741', 'opo0415a'  # Lindsay-Shapley Ring -- AM 0644-741 - Galaxy towards a Group of Galaxies\n",
    "\n",
    "#target, ESA_name = 'arp143',  'heic2201a'  # NGC 2444 -- Interacting Galaxies - ARP 143\n",
    "#target, ESA_name = 'arp148',  'heic0810ae'  # ARP 148 -- Interacting Galaxies\n",
    "#target, ESA_name = 'arp188',  'heic0206a'  # Tadpole Galaxy UGC 10214 \n",
    "#target, ESA_name = 'arp195',  'potw2130a'  # ARP 195 -- Squabbling Galactic Siblings -- UGC 4653 -- Interacting Galaxies\n",
    "#target, ESA_name = 'arp248',  'potw2244a'  # ARP 248 -- Wild's Triplet -- Emission-line galaxy\n",
    "#target, ESA_name = 'arp256',  'heic1805a'  #6 ARP 256 -- Crash in progress\n",
    "#target, ESA_name = 'arp283',  'potw2042a'  #6 ARP 283, NGC 2798, NGC 2799 -- Galactic Waterspout\n",
    "\n",
    "#target, ESA_name = 'Cartwheel',  'potw1036a'  # Cartwheel -- Galaxy\n",
    "\n",
    "#target, ESA_name = 'CIZA J0142.9+4438',  'potw1833a'  # CIZA J0142.9+4438 -- Cluster of Galaxies\n",
    "#target, ESA_name = '[CNG2015] PLCK G045.1+61.1',  'potw2024a'  # [CNG2015] PLCK G045.1+61.1 -- Gravitationally Lensed Image of a Galaxy\n",
    "#target, ESA_name = 'coma cluster',  'potw1849a'  # Coma Cluster\n",
    "\n",
    "#target, ESA_name = 'DDO 68',  'heic1421a'  # DDO 68 - UGC 5340 -- Dwarf galaxy\n",
    "\n",
    "#target, ESA_name = 'ESO 021-G004', 'potw1951a' #6 ESO 021-G004 -- An Active Centre\n",
    "#target, ESA_name = 'ESO 381-12',  'heic1516a' # ESO 381-12, PGC 42871\n",
    "#target, ESA_name = 'ESO 461-36',  'potw2020a' #6 ESO 461-36 -- Stellar Glitter in a Field of Black\n",
    "#target, ESA_name = 'ESO 489-56',  'potw1332a' # ESO 489-56 -- Galaxy - Stars fleeing a cosmic crash\n",
    "#target, ESA_name = 'ESO 510-13',  'opo0123a'  # ESO 510-13, IRAS 13522-2632\n",
    "\n",
    "#target, ESA_name = 'Goods field', 'heic1412a' # GOODS field containing distant dwarf galaxies forming stars at an incredible rate\n",
    "\n",
    "target, ESA_name = 'HCG 16',   'heic1514a'  #6 HCG 16 -- Hubble views bizarre cosmic quartet HCG 16\n",
    "\n",
    "#target, ESA_name = 'IC 10',   'potw1924a'  # IC 10 Spiral, elliptical, irregular\n",
    "#target, ESA_name = 'IC 335',  'potw1451a'  # IC 335\n",
    "#target, ESA_name = 'IC 559',  'potw1436a'  # IC 559 -- Galaxy - A spattering of blue\n",
    "#target, ESA_name = 'IC 1623', 'potw2125a'  # IC 1623 -- Interacting Galaxies\n",
    "#target, ESA_name = 'IC 2051', 'potw1950a'  #6 IC 2051 -- Discs and Bulges\n",
    "#target, ESA_name = 'IC 4653', 'potw1942a'  # IC 4653 -- Galaxy\n",
    "#target, ESA_name = 'IC 4970', 'potw1437a'  # IC 4970 -- Interacting Galaxies NGC 6872\n",
    "#target, ESA_name = 'IC 5063', 'potw2047a'  # IC 5063 -- Seyfert 2 Galaxy - Mysterious Dark Rays\n",
    "\n",
    "#target, ESA_name = 'LEDA 16383', 'heic1612a'  # LEDA 16383 -- Galaxy - APMBGC 252+125-117\n",
    "#target, ESA_name = 'LEDA 36252', 'heic1612a'  # LEDA 36252 -- Emission-line galaxy\n",
    "#target, ESA_name = 'LEDA 97372', 'potw1604a'  # LEDA 97372 -- Seyfert Galaxy - [LO95] 0313-192\n",
    "#target, ESA_name = 'LRG 3-757', 'potw1151a'  # No Simbad - Hubble captures a “lucky” galaxy alignment\n",
    "\n",
    "#target, ESA_name = 'Lindsay-Shapley Ring', 'opo0415a'  # AM 0644-741 - Lindsay-Shapley Ring -- Galaxy towards a Group of Galaxies\n",
    "\n",
    "#target, ESA_name = 'm33',     'heic1901a'  # M33 - The sharpest view ever of the Triangulum Galaxy -- Galaxy towards a Group of Galaxies\n",
    "#target, ESA_name = 'm51',     'heic0506a'  # The Whirlpool Galaxy (M51) and companion galaxy\n",
    "#target, ESA_name = 'm61',     'potw2114a'  # M61 Spiral Galaxy \n",
    "#target, ESA_name = 'm61',     'potw1417a'  # M61 -- Seyfert 2 Galaxy - A hungry starburst galaxy\n",
    "#target, ESA_name = 'm63',     'potw1536a'  # M63 -- LINER-type Active Galaxy Nucleus\n",
    "#target, ESA_name = 'm65',     'potw1352a'  # M65 -- Galaxy in Pair of Galaxies\n",
    "#target, ESA_name = 'm66',     'heic1006a'  # M66 -- Galaxy in Pair of Galaxies - The Leo Triplet\n",
    "#target, ESA_name = 'm74',     'heic0719a'  # M74 The Phantom Galaxy\n",
    "#target, ESA_name = 'm77',     'heic1305a'  # M77\n",
    "#target, ESA_name = 'm81',     'opo1438b'   # Spiral galaxy M81\n",
    "#target, ESA_name = 'm82',     'heic0604a'  # M82 - The magnificent starburst galaxy Messier 82\n",
    "#target, ESA_name = 'm83',     'heic1403a'  # M83 -- Starburst Galaxy\n",
    "#target, ESA_name = 'm86',     'potw1938a'  # M 86 -- Galaxy towards a Group of Galaxies\n",
    "#target, ESA_name = 'm89',     'potw1902a'  # M89 -- LINER-type Active Galaxy Nucleus\n",
    "#target, ESA_name = 'm94',     'potw1542a'  # Starburst galaxy Messier 94\n",
    "#target, ESA_name = 'm98',     'potw1925a'  # M98 -- LINER-type Active Galaxy Nucleus\n",
    "#target, ESA_name = 'm100',    'potw1850a'  # M100\n",
    "#target, ESA_name = 'm101',    'heic0602a'  # M101 - The Pinwheel Galaxy\n",
    "#target, ESA_name = 'm102',    'opo0624a'   # M102 -- NGC 5866 -- Seyfert Galaxy\n",
    "#target, ESA_name = 'm104',    'opo0328a'   # M104 - The majestic Sombrero Galaxy\n",
    "#target, ESA_name = 'm105',    'potw1901a'   #6 M105 -- The heart of the Lion\n",
    "#target, ESA_name = 'm106',    'heic1302a'  # Messier 106\n",
    "\n",
    "#target, ESA_name = 'MACS J0152.5-2852',   'potw1338a'  # MACS J0152.5-2852\n",
    "#target, ESA_name = 'MACS J0416.1-2403',   'heic1416a'  # MACS J0416.1–2403 - Hubble image of galaxy cluster MACS J0416.1–2403\n",
    "#target, ESA_name = 'MACS J0416.1-2403',   'heic1523a'  #6 MACS J0416.1–2403 -- Hubble Frontier Fields view of MACSJ0416.1–2403\n",
    "#target, ESA_name = 'Markarian 1018',      'eso1631a'  # Mrk 1018 -- Seyfert 1 Galaxy\n",
    "#target, ESA_name = 'MCS J0138.0-2155',    'potw2129a'  # Cosmic Lens Flare - MCS J0138.0-2155 -- Cluster of Galaxies\n",
    "\n",
    "#target, ESA_name = 'ngc34',   'potw2043a'  # NGC 34 -- Seyfert 2 Galaxy\n",
    "#target, ESA_name = 'ngc330',  'potw2126a'  # NGC 330 -- Cluster of Stars --  open star cluster  inside the Small Magellanic Cloud\n",
    "#target, ESA_name = 'ngc524',  'potw1329a'  # NGC 524 - A mysterious old spiral -- Galaxy in Pair of Galaxies\n",
    "#target, ESA_name = 'ngc613',  'potw1539a'  # NGC 613 -- Active Galaxy Nucleus\n",
    "#target, ESA_name = 'ngc660',  'potw1348a'  # NGC 660 - A bizarre cosmic rarity -- Seyfert 2 Galaxy\n",
    "#target, ESA_name = 'ngc691',  'potw2008a'  # NGC 691 -- Galaxy towards a Group of Galaxies\n",
    "#target, ESA_name = 'ngc922',  'heic1218a'  # NGC 922 -- Emission-line galaxy\n",
    "#target, ESA_name = 'ngc972',  'potw1926a'  # NGC 972 -- Radio Galaxy\n",
    "#target, ESA_name = 'ngc986',  'potw1446a'  # NGC 986 -- Emission-line galaxy\n",
    "#target, ESA_name = 'ngc1015', 'potw1811a'  # NGC 1015 classified as a barred spiral galaxy\n",
    "#target, ESA_name = 'ngc1052', 'heic1806a'  # NGC 10152-DF2 A ghostly galaxy lacking dark matter\n",
    "#target, ESA_name = 'ngc1073', 'heic1202a'  # NGC 1073 -- Emission-line galaxy\n",
    "#target, ESA_name = 'ngc1275', 'heic0817a'  # NGC 1275 -- Magnetic monster \n",
    "#target, ESA_name = 'ngc1132', 'heic0804a'  # The gargantuan galaxy NGC 1132 -- Galaxy towards a Group of Galaxies\n",
    "#target, ESA_name = 'ngc1156', 'potw2234a'  # A Marvel of Galactic Morphology - NGC 1156 -- Radio Galaxy\n",
    "#target, ESA_name = 'ngc1277', 'potw1812a'  # NGC 1277 - A red, metal-rich relic -- Galaxy towards a Group of Galaxies\n",
    "#target, ESA_name = 'ngc1300', 'opo0501a'   # Barred spiral galaxy NGC 1300\n",
    "#target, ESA_name = 'ngc1316', 'opo0511a'   # The giant elliptical galaxy NGC 1316\n",
    "#target, ESA_name = 'ngc1317', 'potw2148a'  # NGC 1317 -- Galaxy in Pair of Galaxies\n",
    "#target, ESA_name = 'ngc1365', 'potw2040a'  # NGC 1365 -- Seyfert 1 Galaxy\n",
    "#target, ESA_name = 'ngc1385', 'potw2133a'  # NGC 1385 -- Emission-line galaxy\n",
    "#target, ESA_name = 'ngc1433', 'potw1427a'  # NGC 1433 -- Galaxy towards a Group of Galaxies - \n",
    "#target, ESA_name = 'ngc1510', 'heic1712a'  # NGC 1512 and NGC 1510\n",
    "#target, ESA_name = 'ngc1512', 'heic1712a'  # NGC 1512 and NGC 1510\n",
    "#target, ESA_name = 'ngc1512', 'heic0106b'  # NGC 1512 - IRAS 04022-4329 - Composite ultraviolet-visible-infrared image of NGC 1512\n",
    "#target, ESA_name = 'ngc1672', 'heic0706a'  # NGC 1672 -- Stellar nursery in the arms of \n",
    "#target, ESA_name = 'ngc1706', 'potw1943a'  # NGC 1706 -- Galaxy towards a Group of Galaxies\n",
    "#target, ESA_name = 'ngc1792', 'potw2049a'  # The Stellar Forge\n",
    "#target, ESA_name = 'ngc1803', 'potw2002a'  #6 NGC 1803 -- Catalogues Galore\n",
    "#target, ESA_name = 'ngc2008', 'potw2006a'  # NGC 2008\n",
    "#target, ESA_name = 'ngc2188', 'potw2035a'  # NGC 2188 -- Emission-line galaxy\n",
    "#target, ESA_name = 'ngc2207', 'opo9941a'   # A grazing encounter between two spiral galaxies\n",
    "#target, ESA_name = 'ngc2273', 'potw2014a'   #6 NGC 2273 -- Rings Upon Rings\n",
    "#target, ESA_name = 'ngc2336', 'potw2109a'  # NGC 2336 -- Galaxy in Pair of Galaxies\n",
    "#target, ESA_name = 'ngc2441', 'potw1425a'  # NGC 2441 -- Galaxy towards a Group of Galaxies\n",
    "#target, ESA_name = 'ngc2442', 'potw2033a'  # NGC 2442 -- LINER-type Active Galaxy Nucleus\n",
    "#target, ESA_name = 'ngc2444', 'heic2201a'  # NGC 2444 -- Interacting Galaxies - Arp 143\n",
    "#target, ESA_name = 'ngc2525', 'heic2018b'  # NGC 2525 -- Galaxy \n",
    "#target, ESA_name = 'ngc2623', 'heic0912a'  # NGC 2623 -- merger - LINER-type Active Galaxy Nucleus\n",
    "#target, ESA_name = 'ngc2775', 'potw2026a'  # NGC 2775 -- Galaxy \n",
    "#target, ESA_name = 'ngc2787', 'opo0207a'   # NGC 2787 -- LINER-type Active Galaxy Nucleus \n",
    "#target, ESA_name = 'ngc2841', 'heic1104a'  # NGC 2841 -- Flocculent spiral \n",
    "#target, ESA_name = 'ngc2903', 'potw2143a'  # NGC 2905 -- HII Galaxy - in NAME NGC 2903 GROUP\n",
    "#target, ESA_name = 'ngc2906', 'potw2015a'  # NGC 2906 -- Galaxy towards a Group of Galaxies\n",
    "#target, ESA_name = 'ngc2985', 'potw1928a'  # NGC 2985 -- Seyfert 1 Galaxy\n",
    "#target, ESA_name = 'ngc3081', 'potw1423a'  # NGC 3081 -- Seyfert 2 Galaxy - Golden rings of star formation\n",
    "#target, ESA_name = 'ngc3169', 'potw1929a'  # NGC 3169 -- Galaxy in Pair of Galaxies\n",
    "#target, ESA_name = 'ngc3256', 'heic1811a'  # NGC 3256 -- Peculiar galaxy \n",
    "#target, ESA_name = 'ngc3521', 'potw1538a'  # NGC 3521 -- Low Surface Brightness Galaxy\n",
    "#target, ESA_name = 'ngc3717', 'potw1940a'  # NGC 3717\n",
    "#target, ESA_name = 'ngc3749', 'potw1946a'  # NGC 3749 -- Emission-line galaxy\n",
    "#target, ESA_name = 'ngc3887', 'potw2009a'  # NGC 3887 -- Galaxy\n",
    "#target, ESA_name = 'ngc3972', 'potw1810a'  #6 NGC 3972 -- Galaxy full of cosmic lighthouses\n",
    "#target, ESA_name = 'ngc4036', 'potw1836a'  #6 NGC 4036 -- Hazy dust in Ursa Major\n",
    "#target, ESA_name = 'ngc4038', 'potw1345a'  # NGC 4038 -- Antennae Galaxies\n",
    "#target, ESA_name = 'ngc4051', 'potw1923a'  # NGC 4051 -- Seyfert 1 Galaxy\n",
    "#target, ESA_name = 'ngc4102', 'potw1448a'  # NGC 4102 -- LINER-type Active Galaxy Nucleus\n",
    "#target, ESA_name = 'ngc4194', 'potw1939a'  # NGC 4194 -- Active Galaxy Nucleus\n",
    "#target, ESA_name = 'ngc4298', 'heic1709a'  # NGC 4298 -- Galaxy in Pair of Galaxies\n",
    "#target, ESA_name = 'ngc4302', 'heic1709a'  # NGC 4302 -- Galaxy in Pair of Galaxies\n",
    "#target, ESA_name = 'ngc4380', 'potw1941a'  # NGC 4380 -- BL Lac\n",
    "#target, ESA_name = 'ngc4402', 'heic0911c'  # NGC 4402 -- Galaxy in Pair of Galaxies\n",
    "#target, ESA_name = 'ngc4414', 'opo9925a'   # NGC 4414 -- Galaxy towards a Group of Galaxies\n",
    "#target, ESA_name = 'ngc4449', 'heic0711a'  # NGC 4449 -- Emission-line galaxy\n",
    "#target, ESA_name = 'ngc4452', 'potw1029a'  # NGC 4452 -- An extraordinarily slender galaxy - Galaxy towards a Group of Galaxies\n",
    "#target, ESA_name = 'ngc4455', 'potw1952a'  # NGC 4455 -- Emission-line galaxy\n",
    "#target, ESA_name = 'ngc4485', 'potw1419a'  # NGC 4485 -- Starbursts in the wake of a fleeting romance - Galaxy in Pair of Galaxies -In pair with NGC 4490\n",
    "#target, ESA_name = 'ngc4490', 'potw1419a'  # NGC 4490 -- Galaxy in Pair of Galaxies -In pair with NGC 4485\n",
    "#target, ESA_name = 'ngc4490', 'heic1716a'  # NGC 4490 -- Result of a galactic crash\n",
    "#target, ESA_name = 'ngc4522', 'heic0911b'  # NGC 4522\n",
    "#target, ESA_name = 'ngc4526', 'potw1442a'  # NGC 4526 -- The whirling disc\n",
    "#target, ESA_name = 'ngc4603', 'potw2116a'  # NGC 4603 -- Galaxy towards a Group of Galaxies\n",
    "#target, ESA_name = 'ngc4634', 'potw1238a'  # NGC 4634 -- Glowing gas and dark dust in a side-on spiral - Galaxy in Pair of Galaxies\n",
    "#target, ESA_name = 'ngc4621', 'potw1921a'  # NGC 4621\n",
    "#target, ESA_name = 'ngc4656', 'potw1731a'  # NGC 4656 -- Galaxy in Pair of Galaxies\n",
    "#target, ESA_name = 'ngc4676', 'heic0206b'  # NGC 4676 -- Mice Galaxies\n",
    "#target, ESA_name = 'ngc4680', 'potw2123a'  # NGC 4680 -- Galaxy towards a Group of Galaxies\n",
    "#target, ESA_name = 'ngc4689', 'potw2007a'  # NGC 4689 -- HII Galaxy\n",
    "#target, ESA_name = 'ngc4710', 'heic0914a'  # NGC 4710  -- HII Galaxy\n",
    "#target, ESA_name = 'ngc4762', 'potw1443a'  # NGC 4762 -- LINER-type Active Galaxy Nucleus - A galaxy on the edge\n",
    "#target, ESA_name = 'ngc4826', 'potw2108a'  # NGC 4826 -- Eye in the Sky\n",
    "#target, ESA_name = 'ngc4848', 'potw2029a'  # NGC 4848 -- Active Galaxy Nucleus\n",
    "#target, ESA_name = 'ngc4889', 'heic1602a'  # NGC 4889 -- Emission-line galaxy\n",
    "#target, ESA_name = 'ngc4907', 'potw2031a'  # NGC 4907 -- LINER-type Active Galaxy Nucleus\n",
    "#target, ESA_name = 'ngc4921', 'heic0901a'  # NGC 4921 -- LINER-type Active Galaxy Nucleus - Unusual spiral NGC 4921 in the Coma Galaxy Cluster\n",
    "#target, ESA_name = 'ngc5037', 'potw2121a'  # NGC 5037 -- A Distant Spiral in Virgo - Galaxy in Pair of Galaxies\n",
    "#target, ESA_name = 'ngc5128', 'heic1110a'  # NGC 5128 -- Centaurus A -- Seyfert 2 Galaxy\n",
    "#target, ESA_name = 'ngc5364', 'potw2005a'  # NGC 5364 -- Galaxy in Pair of Galaxies\n",
    "#target, ESA_name = 'ngc5474', 'potw1424a'  # NGC 5474 -- A dwarf galaxy ravaged by grand design\n",
    "#target, ESA_name = 'ngc5495', 'potw2239a'  # NGC 5495 -- Seyfert 2 Galaxy\n",
    "#target, ESA_name = 'ngc5584', 'potw1112a'  # NGC 5584 -- Emission-line galaxy\n",
    "#target, ESA_name = 'ngc5643', 'potw2039a'  #6 NGC 5643 -- Spirals Are In This Season\n",
    "#target, ESA_name = 'ngc5866', 'opo0624a'   # NGC 5866 -- M102 -- Seyfert Galaxy\n",
    "#target, ESA_name = 'ngc5907', 'potw2025a'  # NGC 5907 -- A Galaxy on Edge\n",
    "#target, ESA_name = 'ngc6052', 'potw1909a'  # NGC 6052 -- Interacting Galaxies - Colliding galaxies\n",
    "#target, ESA_name = 'ngc6217', 'heic0910s'  # NGC 6217 -- Barred spiral galaxy \n",
    "#target, ESA_name = 'ngc6240', 'potw1520a'  # NGC 6240 -- Seyfert 2 Galaxy\n",
    "#target, ESA_name = 'ngc6744', 'heic1810a'  # NGC 6744 -- Galaxy towards a Group of Galaxies\n",
    "#target, ESA_name = 'ngc6752', 'heic1903a'  # NGC 6752 -- Globular Cluster and The accidentally discovered galaxy Bedin I\n",
    "#target, ESA_name = 'ngc6861', 'potw1502a'  # NGC 6861 -- Galaxy in Pair of Galaxies\n",
    "#target, ESA_name = 'ngc6872', 'potw1437a'  # NGC 6872 -- Interacting Galaxies - An interacting colossus\n",
    "#target, ESA_name = 'ngc6872', 'potw2101a'  # NGC 6946 -- HII Galaxy\n",
    "#target, ESA_name = 'ngc6984', 'potw2144a'  # NGC 6984 -- Cosmic Fireworks\n",
    "#target, ESA_name = 'ngc7049', 'heic0905a'  # NGC 7049 -- Dramatically backlit dust lanes\n",
    "#target, ESA_name = 'ngc7318A', 'heic0910i' # Stephan's Quintet\n",
    "#target, ESA_name = 'ngc7318B', 'heic0910i' # Stephan's Quintet\n",
    "#target, ESA_name = 'ngc7319',  'heic0910i' # Stephan's Quintet\n",
    "#target, ESA_name = 'ngc7331',  'potw1805a' # NGC 7331\n",
    "#target, ESA_name = 'ngc7513',  'potw2027a' # NGC 7513 -- Galaxy towards a Group of Galaxies\n",
    "#target, ESA_name = 'ngc7678',  'potw2112a' # NGC 7678 -- Active Galaxy Nucleus\n",
    "#target, ESA_name = 'ngc7252',  'potw1549a' #6 NGC 7252 -- Galactic politics\n",
    "#target, ESA_name = 'ngc7714',  'heic1503a' # NGC 7714\n",
    "#target, ESA_name = 'ngc7742',  'opo9828a'  # NGC 7742 -- Galaxy in Pair of Galaxies\n",
    "#target, ESA_name = 'ngc7773',  'potw1922a' # NGC 7773 -- Galaxy\n",
    "#target, ESA_name = 'ngc7793',  'potw1438a' # NGC 7793 -- Jets and explosions - Galaxy towards a Group of Galaxies\n",
    "\n",
    "#target, ESA_name = 'PGC 54493',  'potw1435a' # PGC 54493 - Spiral in Serpens - 2MASX J15161917+0709442 -- LINER-type Active Galaxy Nucleus\n",
    "\n",
    "#target, ESA_name = 'PSZ1 G116.48-44.47',  'potw1819a' # PSZ1 G116.48-44.47 -- Cluster of Galaxies Candidate\n",
    "#target, ESA_name = 'PSZ1 G266.56-27.31',  'potw1918a' # PSZ1 G266.56-27.31 -- Cluster of Galaxies - Distant and ancient\n",
    "#target, ESA_name = 'PSZ1 G311.65-18.48',  'heic1920a' # The Sunburst Arc - PSZ1 G311.65-18.48 -- Cluster of Galaxies Candidate\n",
    "\n",
    "#target, ESA_name = 'ClG J0333-0651',  'potw1821a'  # Between Local and Laniakea -n SDSS J0333+0651, [SPD2011] 1227 - ClG J0333-0651 -- Cluster of Galaxies\n",
    "#target, ESA_name = 'SDSSJ225506.80+005839.9',  'potw2048a'  # LEDA 1180817 -- Galaxy - Cosmic Wonderland\n",
    "#target, ESA_name = 'SDSS J090122.37+181432.3',  'potw2045a'  #6 Contorting Giants - Brightest Galaxy in a Cluster (BCG)\n",
    "#target, ESA_name = 'SDSS J1138+2754',  'potw1837a'  # SDSS J1138+2754\n",
    "#target, ESA_name = 'SDSS J1156+1911',  'potw1822a'  # SDSS J1156+1911 A green cosmic arc\n",
    "\n",
    "#target, ESA_name = 'UGC 695',   'potw1936a' # UGC 695 -- Low Surface Brightness Galaxy\n",
    "#target, ESA_name = 'UGC 2369',  'potw1931a' # UGC 2369 -- Pair of Galaxies\n",
    "#target, ESA_name = 'UGC 2885',  'heic2002a' # UGC 2885 -- Galaxy \n",
    "#target, ESA_name = 'UGC 3855',  'potw2105a' # UGC 3855 -- Galaxy towards a Group of Galaxies\n",
    "#target, ESA_name = 'UGC 5340',  'heic1421a' # UGC 5340 -- DDO 68 - Dwarf galaxy\n",
    "#target, ESA_name = 'UGC 6093',  'potw1801a' # UGC 6093 -- Seyfert 2 Galaxy\n",
    "#target, ESA_name = 'UGC 12158', 'potw1035a' # UGC 12158 -- Barred spiral - Galaxy towards a Group of Galaxies\n",
    "#target, ESA_name = 'UGC 12588', 'potw2046a' # UGC 12588 -- Galaxy towards a Group of Galaxies\n",
    "#target, ESA_name = 'UGCA 193',  'potw2044a' # UGCA 193 -- Galaxy towards a Group of Galaxies\n",
    "\n",
    "#target, ESA_name = 'ZwCl 1529+3425',   'heic1414a' # ZwCl 1529+3425 -- Cluster of Galaxies - Droplets of star formation and two merging galaxies in SDSS J1531+3414\n",
    "\n",
    "#target, ESA_name = 'Virgo',  'potw2132a' # Seeing Quintuple\n"
   ]
  },
  {
   "cell_type": "code",
   "execution_count": 48,
   "metadata": {},
   "outputs": [
    {
     "name": "stdout",
     "output_type": "stream",
     "text": [
      "Target: HCG 16\n",
      "\n",
      "RA: 02 09 40.82\n",
      "DEC: -10 11 02.0\n"
     ]
    }
   ],
   "source": [
    "print(\"Target: \" + str(target))\n",
    "\n",
    "object = Simbad.query_object(target)\n",
    "\n",
    "\n",
    "#ra = object[\"RA\"]\n",
    "\n",
    "ra = object[\"RA\"]\n",
    "RA = ra.data[0]\n",
    "print(\"\\nRA: \" + str(RA))\n",
    "\n",
    "dec = object[\"DEC\"]\n",
    "DEC = dec.data[0]\n",
    "print(\"DEC: \" + str(DEC))"
   ]
  },
  {
   "cell_type": "code",
   "execution_count": 49,
   "metadata": {},
   "outputs": [
    {
     "data": {
      "text/plain": [
       "'02 09 40.82 -10 11 02.0'"
      ]
     },
     "execution_count": 49,
     "metadata": {},
     "output_type": "execute_result"
    }
   ],
   "source": [
    "ra_dec = RA + ' ' + DEC\n",
    "ra_dec"
   ]
  },
  {
   "cell_type": "code",
   "execution_count": 50,
   "metadata": {},
   "outputs": [],
   "source": [
    "import webbrowser\n",
    "\n",
    "cds_portal_flag    = 'N'\n",
    "simbad_portal_flag = 'N'\n",
    "sdss_portal_flag   = 'Y'\n",
    "PanStarrs_portal_flag = 'N'\n",
    "Aladin_portal_flag = 'N'\n",
    "esa_portal_flag   = 'Y'\n",
    "\n",
    "xRa = RA\n",
    "yDec = DEC\n",
    "        \n",
    "if cds_portal_flag == 'Y':\n",
    "    cds_portal = 'http://cdsportal.u-strasbg.fr/?target=' + str(xRa) + '%20' + str(yDec)\n",
    "    webbrowser.open(cds_portal) \n",
    "\n",
    "if simbad_portal_flag == 'Y':\n",
    "    simbad_portal = 'http://simbad.cds.unistra.fr/simbad/sim-coo?Coord=' + str(xRa) + '+' + str(yDec) + \\\n",
    "                '&CooFrame=FK5&CooEpoch=2000&CooEqui=2000&CooDefinedFrames=none&Radius=2&Radius.unit=arcmin&submit=submit+query'\n",
    "    webbrowser.open(simbad_portal)  \n",
    "\n",
    "if sdss_portal_flag == 'Y':\n",
    "    sdss_portal = 'http://skyserver.sdss.org/dr17/VisualTools/quickobj?ra=' + str(xRa) + '&dec=' + str(yDec)\n",
    "    webbrowser.open(sdss_portal)   \n",
    "\n",
    "if PanStarrs_portal_flag == 'Y':\n",
    "    PanStarrs_portal = 'http://ps1images.stsci.edu/cgi-bin/ps1cutouts?pos=' + str(xRa) + ' ' + \\\n",
    "    str(yDec) + '&filter=color&filter=g&filter=r&filter=i&filter=z&filter=y&filetypes=stack&auxiliary=data&size=240&output_size=0&verbose=0&autoscale=99.500000&catlist='\n",
    "    webbrowser.open(PanStarrs_portal) \n",
    "\n",
    "if Aladin_portal_flag == 'Y':\n",
    "    radec = str(xRa) + ' ' + str(yDec)\n",
    "    webbrowser.open('https://aladin.u-strasbg.fr/AladinLite/?target=' + str(radec))\n",
    "\n",
    "if esa_portal_flag == 'Y':\n",
    "    webbrowser.open('https://esahubble.org/images/' + str(ESA_name))\n",
    "    webbrowser.open('https://esahubble.org/images/' + str(ESA_name) + \"/zoomable/\")\n",
    "    webbrowser.open('https://esahubble.org/media/archives/images/large/' + str(ESA_name) + \".jpg\")\n",
    "    #webbrowser.open('https://esahubble.org/media/archives/images/original/' + str(ESA_name) + \".tif\")"
   ]
  },
  {
   "cell_type": "markdown",
   "metadata": {},
   "source": []
  },
  {
   "cell_type": "code",
   "execution_count": 7,
   "metadata": {},
   "outputs": [
    {
     "data": {
      "application/vnd.jupyter.widget-view+json": {
       "model_id": "25e343483bfa4760b2669d4c617a9140",
       "version_major": 2,
       "version_minor": 0
      },
      "text/plain": [
       "Aladin(fov=1.0, options=['allow_full_zoomout', 'coo_frame', 'fov', 'full_screen', 'log', 'overlay_survey', 'ov…"
      ]
     },
     "execution_count": 7,
     "metadata": {},
     "output_type": "execute_result"
    }
   ],
   "source": [
    "import ipyaladin.aladin_widget as ipyal\n",
    "\n",
    "aladin_bis= ipyal.Aladin(target=ra_dec, fov=1)\n",
    "aladin_bis"
   ]
  },
  {
   "cell_type": "code",
   "execution_count": 8,
   "metadata": {},
   "outputs": [
    {
     "data": {
      "application/vnd.jupyter.widget-view+json": {
       "model_id": "76cb83375f414c6199ab2a5a368ae7e6",
       "version_major": 2,
       "version_minor": 0
      },
      "text/plain": [
       "Aladin(fov=0.3, options=['allow_full_zoomout', 'coo_frame', 'fov', 'full_screen', 'log', 'overlay_survey', 'ov…"
      ]
     },
     "execution_count": 8,
     "metadata": {},
     "output_type": "execute_result"
    }
   ],
   "source": [
    "import ipyaladin.aladin_widget as ipyal\n",
    "\n",
    "aladin = ipyal.Aladin(target=ra_dec,  fov=0.3, survey='P/allWise/color')\n",
    "aladin"
   ]
  },
  {
   "cell_type": "code",
   "execution_count": 9,
   "metadata": {},
   "outputs": [
    {
     "data": {
      "application/vnd.jupyter.widget-view+json": {
       "model_id": "d908cce2bc484d9786a782644a1c193c",
       "version_major": 2,
       "version_minor": 0
      },
      "text/plain": [
       "Aladin(fov=0.3, options=['allow_full_zoomout', 'coo_frame', 'fov', 'full_screen', 'log', 'overlay_survey', 'ov…"
      ]
     },
     "execution_count": 9,
     "metadata": {},
     "output_type": "execute_result"
    }
   ],
   "source": [
    "import ipyaladin.aladin_widget as ipyal\n",
    "\n",
    "aladin = ipyal.Aladin(target=ra_dec,  fov=0.3, survey='P/DSS2/red')\n",
    "aladin"
   ]
  },
  {
   "cell_type": "code",
   "execution_count": 10,
   "metadata": {},
   "outputs": [
    {
     "data": {
      "application/vnd.jupyter.widget-view+json": {
       "model_id": "de9e0d52eba3426a8856d99bad012d95",
       "version_major": 2,
       "version_minor": 0
      },
      "text/plain": [
       "Aladin(fov=0.3, options=['allow_full_zoomout', 'coo_frame', 'fov', 'full_screen', 'log', 'overlay_survey', 'ov…"
      ]
     },
     "execution_count": 10,
     "metadata": {},
     "output_type": "execute_result"
    }
   ],
   "source": [
    "import ipyaladin.aladin_widget as ipyal\n",
    "\n",
    "aladin = ipyal.Aladin(target=ra_dec,  fov=0.3, survey='P/2MASS/color')\n",
    "aladin"
   ]
  },
  {
   "cell_type": "code",
   "execution_count": 11,
   "metadata": {},
   "outputs": [
    {
     "data": {
      "application/vnd.jupyter.widget-view+json": {
       "model_id": "b04b977fcc224c3cb9d4a714e88a3770",
       "version_major": 2,
       "version_minor": 0
      },
      "text/plain": [
       "Box(children=(Aladin(fov=0.3, layout=Layout(width='33.33%'), options=['allow_full_zoomout', 'coo_frame', 'fov'…"
      ]
     },
     "execution_count": 11,
     "metadata": {},
     "output_type": "execute_result"
    }
   ],
   "source": [
    "from ipyaladin import Aladin\n",
    "\n",
    "from ipywidgets import Layout, Box, widgets\n",
    "\n",
    "a = Aladin(layout=Layout(width='33.33%'), target=ra_dec, fov=0.3)\n",
    "b = Aladin(layout=Layout(width='33.33%'), survey='P/DSS2/red')\n",
    "c = Aladin(layout=Layout(width='33.33%'), survey='P/2MASS/color')\n",
    "\n",
    "# synchronize target between 3 widgets\n",
    "widgets.jslink((a, 'target'), (b, 'target'))\n",
    "widgets.jslink((b, 'target'), (c, 'target'))\n",
    "\n",
    "# synchronize FoV (zoom level) between 3 widgets\n",
    "widgets.jslink((a, 'fov'), (b, 'fov'))\n",
    "widgets.jslink((b, 'fov'), (c, 'fov'))\n",
    "\n",
    "items = [a, b, c]\n",
    "\n",
    "box_layout = Layout(display='flex',\n",
    "                    flex_flow='row',\n",
    "                    align_items='stretch',\n",
    "                    border='solid',\n",
    "                    width='100%')\n",
    "box = Box(children=items, layout=box_layout)\n",
    "box"
   ]
  },
  {
   "cell_type": "markdown",
   "metadata": {},
   "source": [
    "### Simbad"
   ]
  },
  {
   "cell_type": "code",
   "execution_count": null,
   "metadata": {},
   "outputs": [],
   "source": [
    "import webbrowser\n",
    "\n",
    "#webbrowser.open('http://simbad.u-strasbg.fr/simbad/sim-id?Ident=2MASX+J06094582-2140234')\n",
    "\n",
    "#webbrowser.open('http://simbad.u-strasbg.fr/simbad/sim-id?Ident=Abell+370')\n",
    "#webbrowser.open('http://simbad.u-strasbg.fr/simbad/sim-id?Ident=Abell+1413')\n",
    "#webbrowser.open('http://simbad.u-strasbg.fr/simbad/sim-id?Ident=Abell+1758')\n",
    "#webbrowser.open('http://simbad.u-strasbg.fr/simbad/sim-id?Ident=Abell+2744')\n",
    "\n",
    "#webbrowser.open('http://simbad.u-strasbg.fr/simbad/sim-id?Ident=ACO+S+295')\n",
    "#webbrowser.open('http://simbad.u-strasbg.fr/simbad/sim-id?Ident=ACO+2813')\n",
    "\n",
    "#webbrowser.open('http://simbad.u-strasbg.fr/simbad/sim-id?Ident=AM+0644-741')\n",
    "\n",
    "#webbrowser.open('http://simbad.u-strasbg.fr/simbad/sim-id?Ident=Arp+195')\n",
    "#webbrowser.open('http://simbad.u-strasbg.fr/simbad/sim-id?Ident=Arp+248')\n",
    "\n",
    "#webbrowser.open('http://simbad.u-strasbg.fr/simbad/sim-id?Ident=Cartwheel+Galaxy')\n",
    "#webbrowser.open('http://simbad.u-strasbg.fr/simbad/sim-id?Ident=%5BCNG2015%5D+PLCK+G045.1%2B61.1')\n",
    "\n",
    "#webbrowser.open('http://simbad.u-strasbg.fr/simbad/sim-id?Ident=DDO+68')\n",
    "\n",
    "#webbrowser.open('http://simbad.u-strasbg.fr/simbad/sim-id?Ident=ESO+489-56')\n",
    "\n",
    "#webbrowser.open('http://simbad.u-strasbg.fr/simbad/sim-id?Ident=IC+559')\n",
    "#webbrowser.open('http://simbad.u-strasbg.fr/simbad/sim-id?Ident=IC+1623')\n",
    "#webbrowser.open('http://simbad.u-strasbg.fr/simbad/sim-id?Ident=IC+4653')\n",
    "#webbrowser.open('http://simbad.u-strasbg.fr/simbad/sim-id?Ident=IC+4970')\n",
    "\n",
    "#webbrowser.open('http://simbad.u-strasbg.fr/simbad/sim-id?Ident=APMBGC+252%2B125-117')\n",
    "#webbrowser.open('http://simbad.u-strasbg.fr/simbad/sim-id?Ident=LEDA+36252')\n",
    "#webbrowser.open('http://simbad.u-strasbg.fr/simbad/sim-id?Ident=%5BLO95%5D+0313-192')\n",
    "\n",
    "#webbrowser.open('http://simbad.u-strasbg.fr/simbad/sim-id?Ident=Messier+65')\n",
    "\n",
    "#webbrowser.open('http://simbad.u-strasbg.fr/simbad/sim-id?Ident=Markarian+1018')\n",
    "\n",
    "#webbrowser.open('http://simbad.u-strasbg.fr/simbad/sim-id?Ident=Messier+61')\n",
    "#webbrowser.open('http://simbad.u-strasbg.fr/simbad/sim-id?Ident=Messier+63')\n",
    "#webbrowser.open('http://simbad.u-strasbg.fr/simbad/sim-id?Ident=Messier+86')\n",
    "#webbrowser.open('http://simbad.u-strasbg.fr/simbad/sim-id?Ident=Messier+89')\n",
    "#webbrowser.open('http://simbad.u-strasbg.fr/simbad/sim-id?Ident=Messier+98')\n",
    "\n",
    "#webbrowser.open('http://simbad.u-strasbg.fr/simbad/sim-id?Ident=NGC+330')\n",
    "#webbrowser.open('http://simbad.u-strasbg.fr/simbad/sim-id?Ident=NGC+613')\n",
    "#webbrowser.open('http://simbad.u-strasbg.fr/simbad/sim-id?Ident=NGC+986')\n",
    "#webbrowser.open('http://simbad.u-strasbg.fr/simbad/sim-id?Ident=NGC+1073')\n",
    "#webbrowser.open('http://simbad.u-strasbg.fr/simbad/sim-id?Ident=NGC+1365')\n",
    "#webbrowser.open('http://simbad.u-strasbg.fr/simbad/sim-id?Ident=NGC+1385')\n",
    "#webbrowser.open('http://simbad.u-strasbg.fr/simbad/sim-id?Ident=NGC+1433')\n",
    "#webbrowser.open('http://simbad.u-strasbg.fr/simbad/sim-id?Ident=NGC+1706')\n",
    "#webbrowser.open('http://simbad.u-strasbg.fr/simbad/sim-id?Ident=NGC+2188')\n",
    "#webbrowser.open('http://simbad.u-strasbg.fr/simbad/sim-id?Ident=NGC+2441')\n",
    "#webbrowser.open('http://simbad.u-strasbg.fr/simbad/sim-id?Ident=NGC+2623')\n",
    "#webbrowser.open('http://simbad.u-strasbg.fr/simbad/sim-id?Ident=NGC+2787')\n",
    "#webbrowser.open('http://simbad.u-strasbg.fr/simbad/sim-id?Ident=NGC+3081')\n",
    "#webbrowser.open('http://simbad.u-strasbg.fr/simbad/sim-id?Ident=NGC+3749')\n",
    "#webbrowser.open('http://simbad.u-strasbg.fr/simbad/sim-id?Ident=NGC+3887')\n",
    "#webbrowser.open('http://simbad.u-strasbg.fr/simbad/sim-id?Ident=NGC+4051')\n",
    "#webbrowser.open('http://simbad.u-strasbg.fr/simbad/sim-id?Ident=NGC+4102')\n",
    "#webbrowser.open('http://simbad.u-strasbg.fr/simbad/sim-id?Ident=NGC+4194')\n",
    "#webbrowser.open('http://simbad.u-strasbg.fr/simbad/sim-id?Ident=NGC+4380')\n",
    "#webbrowser.open('http://simbad.u-strasbg.fr/simbad/sim-id?Ident=NGC+4414')\n",
    "#webbrowser.open('http://simbad.u-strasbg.fr/simbad/sim-id?Ident=NGC+4452')\n",
    "#webbrowser.open('http://simbad.u-strasbg.fr/simbad/sim-id?Ident=NGC+4455')\n",
    "#webbrowser.open('http://simbad.u-strasbg.fr/simbad/sim-id?Ident=NGC+4485')\n",
    "#webbrowser.open('http://simbad.u-strasbg.fr/simbad/sim-id?Ident=NGC+4490')\n",
    "#webbrowser.open('http://simbad.u-strasbg.fr/simbad/sim-id?Ident=NGC+4634')\n",
    "#webbrowser.open('http://simbad.u-strasbg.fr/simbad/sim-id?Ident=NGC+4710')\n",
    "#webbrowser.open('http://simbad.u-strasbg.fr/simbad/sim-id?Ident=NGC+4848')\n",
    "#webbrowser.open('http://simbad.u-strasbg.fr/simbad/sim-id?Ident=NGC+4889')\n",
    "#webbrowser.open('http://simbad.u-strasbg.fr/simbad/sim-id?Ident=NGC+4907')\n",
    "#webbrowser.open('http://simbad.u-strasbg.fr/simbad/sim-id?Ident=NGC+4921')\n",
    "#webbrowser.open('http://simbad.u-strasbg.fr/simbad/sim-id?Ident=NGC+5037')\n",
    "#webbrowser.open('http://simbad.u-strasbg.fr/simbad/sim-id?Ident=NGC+5364')\n",
    "#webbrowser.open('http://simbad.u-strasbg.fr/simbad/sim-id?Ident=NGC+5474')\n",
    "#webbrowser.open('http://simbad.u-strasbg.fr/simbad/sim-id?Ident=NGC+5584')\n",
    "#webbrowser.open('http://simbad.u-strasbg.fr/simbad/sim-id?Ident=NGC+5907')\n",
    "#webbrowser.open('http://simbad.u-strasbg.fr/simbad/sim-id?Ident=NGC+6052')\n",
    "#webbrowser.open('http://simbad.u-strasbg.fr/simbad/sim-id?Ident=NGC+6240')\n",
    "#webbrowser.open('http://simbad.u-strasbg.fr/simbad/sim-id?Ident=NGC+6744')\n",
    "#webbrowser.open('http://simbad.u-strasbg.fr/simbad/sim-id?Ident=NGC+6872')\n",
    "#webbrowser.open('http://simbad.u-strasbg.fr/simbad/sim-id?Ident=NGC+6946')\n",
    "#webbrowser.open('http://simbad.u-strasbg.fr/simbad/sim-id?Ident=NGC+7513')\n",
    "#webbrowser.open('http://simbad.u-strasbg.fr/simbad/sim-id?Ident=NGC+7742')\n",
    "#webbrowser.open('http://simbad.u-strasbg.fr/simbad/sim-id?Ident=NGC+7773')\n",
    "#webbrowser.open('http://simbad.u-strasbg.fr/simbad/sim-id?Ident=NGC+7793')\n",
    "\n",
    "#webbrowser.open('http://simbad.u-strasbg.fr/simbad/sim-id?Ident=SDSSJ225506.80%2B005839.9')\n",
    "#webbrowser.open('http://simbad.u-strasbg.fr/simbad/sim-id?Ident=SPT-CL+J0615-5746') # PSZ1 G266.56-27.31\n",
    "\n",
    "#webbrowser.open('http://simbad.u-strasbg.fr/simbad/sim-id?Ident=UGC+2369')\n",
    "#webbrowser.open('http://simbad.u-strasbg.fr/simbad/sim-id?Ident=UGC+3855')\n",
    "#webbrowser.open('http://simbad.u-strasbg.fr/simbad/sim-id?Ident=UGC+6093')\n",
    "#webbrowser.open('http://simbad.u-strasbg.fr/simbad/sim-id?Ident=UGC+12158')\n",
    "\n",
    "#webbrowser.open('http://simbad.u-strasbg.fr/simbad/sim-id?Ident=%5BHGO2008%5DSDSS+J1531%2B3414')"
   ]
  },
  {
   "cell_type": "code",
   "execution_count": null,
   "metadata": {},
   "outputs": [],
   "source": []
  }
 ],
 "metadata": {
  "kernelspec": {
   "display_name": "Python 3.8.5 64-bit",
   "language": "python",
   "name": "python3"
  },
  "language_info": {
   "codemirror_mode": {
    "name": "ipython",
    "version": 3
   },
   "file_extension": ".py",
   "mimetype": "text/x-python",
   "name": "python",
   "nbconvert_exporter": "python",
   "pygments_lexer": "ipython3",
   "version": "3.11.4"
  },
  "orig_nbformat": 4,
  "vscode": {
   "interpreter": {
    "hash": "370153b166432bda8ece2d80f7f4d2181e27b6b7a1e4d6bb250df530a4aea18a"
   }
  }
 },
 "nbformat": 4,
 "nbformat_minor": 2
}
